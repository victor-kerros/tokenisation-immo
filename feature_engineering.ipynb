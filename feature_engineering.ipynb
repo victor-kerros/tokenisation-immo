{
 "cells": [
  {
   "cell_type": "markdown",
   "id": "bdf1d96f-a429-468e-860b-ab532c24cf22",
   "metadata": {},
   "source": [
    "# Etape 2 : feature engineering"
   ]
  },
  {
   "cell_type": "code",
   "execution_count": null,
   "id": "3f1334d0-d51c-43e6-bc96-d7690b10ce16",
   "metadata": {},
   "outputs": [],
   "source": [
    "### 2.1. Choix des nouveaux features :"
   ]
  },
  {
   "cell_type": "markdown",
   "id": "2ff4448f-31f1-45c1-86d4-72568188385d",
   "metadata": {},
   "source": [
    "Afin d'**avoir un modèle performant**, nous allons **ajouter d'autres features**. En effet, la localisation, le prix, le nombre de pièces et la surface ne donnent pas assez d'informations pour bien valoriser un bien immobilier.\n",
    "\n",
    "Selon BSI Economics, **trois facteurs** qui influencent les prix de l'immobilier :\n",
    "\n",
    "- **l'environnement économique et financier** (offre et demande de logement, contexte économie, structure des marchés immobiliers, logements neufs et anciens, démographie, taux de logements vacants) ;\n",
    "\n",
    "- **les conditions d'emprunts** (taux variables/fixes, maturités des prêts, ratio emprunt sur valeur, répartition des crédits, solvabilité, système de garantie) ;\n",
    "\n",
    "- **l'environnement fiscal** (mesures fiscales incitatives à la location, distorsion fiscale des locataires vers les propriétaires).\n",
    "\n",
    "En particulier, **un agent immobilier** observe, par exemple, les features suivant :\n",
    "* prix au m2 du quartier (le projet qui nous a inspiré utilise l'algorithme BallTree pour l'obtenir), \n",
    "* PIB du département (mesure de l'activité économique des alentours), \n",
    "* densité du département (mesure de l'urbanisation, de l'activité), \n",
    "* variation de population non naturelle (mesure de l'attractivité),\n",
    "* mois de la transaction (saisonnalité des prix dans certaines régions touristiques), \n",
    "* taux de logements vacants dans la région (mesure de l'attractivité)."
   ]
  },
  {
   "cell_type": "markdown",
   "id": "dd13f0d4-5e24-480b-adff-6e028860e3a5",
   "metadata": {},
   "source": [
    "### 2.2. Importation des nouveaux features :"
   ]
  },
  {
   "cell_type": "code",
   "execution_count": null,
   "id": "6c19b174-f6fd-4e81-9aac-6f84a18cdd78",
   "metadata": {},
   "outputs": [],
   "source": [
    "# Creation de la variable prix_m2 :\n",
    "data['prix_m2'] = data['surface_terrain'] / data['valeur_fonciere']"
   ]
  },
  {
   "cell_type": "markdown",
   "id": "54abca8e-5f4d-40ae-98e0-36e4fc62f7fa",
   "metadata": {},
   "source": [
    "Ces features ont été **générées dans le notebook \"external_data\"**. Nous invitons le lecteur à s'y référer afin d'apprécier la manière dont ils ont été importés puis préprocessés."
   ]
  },
  {
   "cell_type": "code",
   "execution_count": null,
   "id": "03206a16-9e62-4b57-b949-0dbf8f493a03",
   "metadata": {},
   "outputs": [],
   "source": [
    "# Importation des données externes INSEE :\n",
    "\n",
    "external_data = retrieve_data()\n",
    "external_data.head(3)"
   ]
  },
  {
   "cell_type": "code",
   "execution_count": null,
   "id": "a71e7663-d471-4313-92bf-d5ac85e9a98b",
   "metadata": {},
   "outputs": [],
   "source": [
    "list_numbers = [\"1\", \"2\", \"3\", \"4\", \"5\", \"6\", \"7\", \"8\", \"9\"]\n",
    "data[\"code_departement\"] = data[\"code_departement\"].apply(\n",
    "    lambda dep: str(dep) if str(dep) not in list_numbers else \"0\"+str(dep))\n",
    "data.head(3)"
   ]
  },
  {
   "cell_type": "code",
   "execution_count": null,
   "id": "c875a08d-4fc9-4176-bcf7-9cc62c9d03c3",
   "metadata": {},
   "outputs": [],
   "source": [
    "dep_vente = data[\"code_departement\"].unique()\n",
    "dep_commun = external_data[\"code_dep\"].unique()\n",
    "\n",
    "print(f\"Département présents dans les ventes mais pas dans nos données complémentaires : \\\n",
    "      {[code_dep for code_dep in dep_vente if code_dep not in dep_commun]}\")\n",
    "print(f\"Département présents dans les données complémentaires mais pas dans les ventes : \\\n",
    "{[code_dep for code_dep in dep_commun if code_dep not in dep_vente]}\")\n",
    "print(f\"Nombre de départements uniques dans notre table générale : {len(data['code_departement'].unique())}.\")"
   ]
  },
  {
   "cell_type": "code",
   "execution_count": null,
   "id": "a71973d3-8bde-4da2-8ba2-7f1e83ea0cd3",
   "metadata": {},
   "outputs": [],
   "source": [
    "display(\"Nombre de lignes correspondant aux Landes qui vont être perdues\")\n",
    "display(data[data[\"code_departement\"] == '40'][\"code_departement\"].count())\n",
    "display(\"Longueur avant inner join :\")\n",
    "len_pre_join = data.shape[0]\n",
    "display(data.shape[0])"
   ]
  },
  {
   "cell_type": "markdown",
   "id": "b4656bde-d1f1-48c6-9f60-d9f374f65081",
   "metadata": {},
   "source": [
    "### 2.3. Jointure des deux tables de données :"
   ]
  },
  {
   "cell_type": "code",
   "execution_count": null,
   "id": "81252839-d556-43e3-87b1-38db0388041d",
   "metadata": {},
   "outputs": [],
   "source": [
    "data = data.set_index(\"code_departement\").join(external_data.set_index(\"code_dep\"), how = \"inner\", rsuffix = \"jo\")\n",
    "data = data.reset_index().rename(columns = {\"index\": \"code_departement\"})\n",
    "display(\"Longueur après inner join :\")\n",
    "display(data.shape[0])\n",
    "len_post_join = data.shape[0]\n",
    "display(\"Lignes perdues pendant la jointure (du fait de l'inner join) :\")\n",
    "display(abs(len_post_join - len_pre_join))"
   ]
  },
  {
   "cell_type": "markdown",
   "id": "c346d294-2f03-4d20-8a6a-d0d52dcf4e9e",
   "metadata": {},
   "source": [
    "L'inner join avec les autres features nous fait perdre les 1799 lignes correspondant aux ventes dans le département 40, comme on pouvait s'y attendre.\n",
    "La base de donnée est bien cleanée avec **les nouveaux features ajoutés**."
   ]
  }
 ],
 "metadata": {
  "kernelspec": {
   "display_name": "Python 3 (ipykernel)",
   "language": "python",
   "name": "python3"
  },
  "language_info": {
   "codemirror_mode": {
    "name": "ipython",
    "version": 3
   },
   "file_extension": ".py",
   "mimetype": "text/x-python",
   "name": "python",
   "nbconvert_exporter": "python",
   "pygments_lexer": "ipython3",
   "version": "3.9.7"
  }
 },
 "nbformat": 4,
 "nbformat_minor": 5
}
