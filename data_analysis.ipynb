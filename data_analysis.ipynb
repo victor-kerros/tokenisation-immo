{
 "cells": [
  {
   "cell_type": "markdown",
   "id": "09199fe7-51c4-437c-9899-acd49876bbe3",
   "metadata": {},
   "source": [
    "# Etape 3 : analyse descriptive"
   ]
  },
  {
   "cell_type": "markdown",
   "id": "8bbde7f1-3bc5-4346-bd5b-184afd5645a3",
   "metadata": {},
   "source": [
    "### 3.1. Premières analyses :"
   ]
  },
  {
   "cell_type": "code",
   "execution_count": null,
   "id": "d4820899-c4a2-4a5c-ba18-4320da01c8aa",
   "metadata": {},
   "outputs": [],
   "source": [
    "# Visualisation des lignes :\n",
    "\n",
    "data.head(2)"
   ]
  },
  {
   "cell_type": "code",
   "execution_count": null,
   "id": "07772578-9121-455f-8ec2-80dc866a9efd",
   "metadata": {},
   "outputs": [],
   "source": [
    "# Visualisation des valeurs uniques dans les colonnes \"nature_culture\" et \"type_local\" :\n",
    "\n",
    "display(data[\"nature_culture\"].unique())\n",
    "display(data[\"type_local\"].unique())"
   ]
  },
  {
   "cell_type": "code",
   "execution_count": null,
   "id": "e571a2d2-cee4-494c-ad68-ea0285223916",
   "metadata": {},
   "outputs": [],
   "source": [
    "nb_maisons = list(data[\"type_local\"]).count(\"Maison\")\n",
    "print(f\"Le nombre de maisons dans le dataset est : {nb_maisons}.\")\n",
    "\n",
    "nb_appartement = list(data[\"type_local\"]).count(\"Appartement\")\n",
    "print(f\"Le nombre d'appartments dans le dataset est : {nb_appartement}.\")\n",
    "\n",
    "nb_local = list(data[\"type_local\"]).count(\"Local industriel. commercial ou assimilé\")\n",
    "print(f\"Le nombre de 'Local industriel. commercial ou assimilé' dans le dataset est : {nb_local}.\")"
   ]
  },
  {
   "cell_type": "markdown",
   "id": "cb9596f9-f966-4448-bdf2-aace4010980c",
   "metadata": {},
   "source": [
    "### 3.2. Analyse de la répartition des ventes :"
   ]
  },
  {
   "cell_type": "code",
   "execution_count": null,
   "id": "3eeabd13-bc79-4930-b3b8-a8200fef13eb",
   "metadata": {},
   "outputs": [],
   "source": [
    "# Répartition des prix de vente :\n",
    "\n",
    "plt.hist(data[\"valeur_fonciere\"].values, bins = 100)\n",
    "plt.title('Répartition des valeurs foncières')"
   ]
  },
  {
   "cell_type": "markdown",
   "id": "d2619908-3510-458b-851c-605a1144af22",
   "metadata": {},
   "source": [
    "Il y a encore des valeurs extrêmes qui **gênent la visualisation**. Nous allons **renlever les valeurs extrêmes** pour pouvoir mieux observer les données (nous enlevons les valeurs foncières dont l'écart à la moyenne est supérieur à 2,5 fois l'écart type). \n",
    "\n",
    "**Attention** : nous n'enlevons pas ces données de notre dataset principal (pour cela, nous créons data_aux).\n",
    "\n",
    "On constate que la distribution est celle d'une **loi exponentielle**.\n",
    "\n",
    "N.B. : nous utilisons également **le package seaborn** qui offre de bonnes opportunités de visualisation."
   ]
  }
 ],
 "metadata": {
  "kernelspec": {
   "display_name": "Python 3 (ipykernel)",
   "language": "python",
   "name": "python3"
  },
  "language_info": {
   "codemirror_mode": {
    "name": "ipython",
    "version": 3
   },
   "file_extension": ".py",
   "mimetype": "text/x-python",
   "name": "python",
   "nbconvert_exporter": "python",
   "pygments_lexer": "ipython3",
   "version": "3.9.7"
  }
 },
 "nbformat": 4,
 "nbformat_minor": 5
}
