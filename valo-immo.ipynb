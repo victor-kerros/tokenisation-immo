{
 "cells": [
  {
   "cell_type": "markdown",
   "id": "660234b5",
   "metadata": {},
   "source": [
    "# *Projet Python ENSAE*\n",
    "\n",
    "## Tokenisation d'actifs immobiliers - partie valorisation"
   ]
  },
  {
   "cell_type": "markdown",
   "id": "81d4b487",
   "metadata": {},
   "source": [
    "Le but de ce notebook principal est de **créer un modèle de valorisation des actifs immobiliers**. Pour cela, nous utilisons principalement les données extraites du **dataset Demande de Valeurs Foncières** (DVF) et des **données INSEE**. Nous nous sommes inspirés d'un projet d'Arnaud Hureaux que nous avons cherché ) approfondir et compléter.\n",
    "\n",
    "Lien projet (source d'inspiration) : https://hureauxarnaud.medium.com/projet-estimateur-de-prix-dun-bien-immobilier-bas%C3%A9-sur-du-machine-learning-ae578fdacaca"
   ]
  },
  {
   "cell_type": "markdown",
   "id": "3154eea4",
   "metadata": {},
   "source": [
    "# Etape 0 : packages"
   ]
  },
  {
   "cell_type": "code",
   "execution_count": 1,
   "id": "38547454",
   "metadata": {},
   "outputs": [
    {
     "name": "stdout",
     "output_type": "stream",
     "text": [
      "Requirement already satisfied: nltk in /opt/conda/lib/python3.9/site-packages (3.6.7)\n",
      "Requirement already satisfied: click in /opt/conda/lib/python3.9/site-packages (from nltk) (8.0.3)\n",
      "Requirement already satisfied: regex>=2021.8.3 in /opt/conda/lib/python3.9/site-packages (from nltk) (2021.11.10)\n",
      "Requirement already satisfied: tqdm in /opt/conda/lib/python3.9/site-packages (from nltk) (4.62.3)\n",
      "Requirement already satisfied: joblib in /opt/conda/lib/python3.9/site-packages (from nltk) (1.1.0)\n",
      "Requirement already satisfied: unidecode in /opt/conda/lib/python3.9/site-packages (1.3.2)\n"
     ]
    }
   ],
   "source": [
    "# importation des packages importants\n",
    "\n",
    "import numpy as np\n",
    "import pandas as pd\n",
    "from tqdm import tqdm\n",
    "from sklearn.neighbors import BallTree\n",
    "import requests\n",
    "import matplotlib\n",
    "import seaborn as sns\n",
    "import matplotlib.pyplot as plt\n",
    "!pip install nltk\n",
    "from nltk.metrics.distance import jaro_winkler_similarity\n",
    "from scipy.spatial.distance import cdist\n",
    "!pip install unidecode\n",
    "import unidecode\n",
    "import zipfile\n",
    "from urllib.request import urlopen\n",
    "import shutil\n",
    "import os"
   ]
  },
  {
   "cell_type": "markdown",
   "id": "97025158",
   "metadata": {},
   "source": [
    "# Etape 1 : preprocessing DVF"
   ]
  },
  {
   "cell_type": "markdown",
   "id": "eab2c34c-fc10-4be2-b04e-961ad0f01601",
   "metadata": {},
   "source": [
    "### 1.1. Importation du dataset DVF :\n",
    "\n",
    "Nous importons le dataset « **Demandes de valeurs foncières** » (DVF), publié par la DGFiP, permet de connaître les transactions immobilières intervenues au cours des cinq dernières années sur le territoire métropolitain et les DOM-TOM, à l’exception de l’Alsace, de la Moselle et de Mayotte. Les données contenues sont issues des actes notariés et des informations cadastrales.\n",
    "\n",
    "Fichiers 2017-2020 : https://files.data.gouv.fr/geo-dvf/latest/"
   ]
  },
  {
   "cell_type": "code",
   "execution_count": 2,
   "id": "04c30121",
   "metadata": {},
   "outputs": [
    {
     "name": "stderr",
     "output_type": "stream",
     "text": [
      "/opt/conda/lib/python3.9/site-packages/IPython/core/interactiveshell.py:3444: DtypeWarning: Columns (10,12,17,18,20,22,24,35,36) have mixed types.Specify dtype option on import or set low_memory=False.\n",
      "  exec(code_obj, self.user_global_ns, self.user_ns)\n"
     ]
    },
    {
     "data": {
      "text/plain": [
       "'\\nfor year in range(2017, 2021):\\n    name = \"https://files.data.gouv.fr/geo-dvf/latest/csv/\" + str(year) + \"/full.csv.gz\"\\n    table = pd.concat([table, pd.read_csv(name, sep = \\',\\')])\\n\\ndisplay(\"Taille de table :\")\\ndisplay(table.shape)\\ntable.head()\\n'"
      ]
     },
     "execution_count": 2,
     "metadata": {},
     "output_type": "execute_result"
    }
   ],
   "source": [
    "# Les fichiers sont issus de https://files.data.gouv.fr/geo-dvf/latest/\n",
    "\n",
    "name = \"https://files.data.gouv.fr/geo-dvf/latest/csv/2021/full.csv.gz\"\n",
    "table = pd.read_csv(name, sep = ',')\n",
    "\n",
    "# On ne travaille que sur les données du S1 2021, afin d'avoir des calculs moins coûteux en temps.\n",
    "# Les transactions du S1 2021 représentent tout de même un dataset de 1 200 000 lignes...\n",
    "# Pour travailler sur l'ensemble des données (2017-2021), il suffit d'enlever les guillemets ci-dessous.\n",
    "\n",
    "\"\"\"\n",
    "for year in range(2017, 2021):\n",
    "    name = \"https://files.data.gouv.fr/geo-dvf/latest/csv/\" + str(year) + \"/full.csv.gz\"\n",
    "    table = pd.concat([table, pd.read_csv(name, sep = ',')])\n",
    "\n",
    "display(\"Taille de table :\")\n",
    "display(table.shape)\n",
    "table.head()\n",
    "\"\"\""
   ]
  },
  {
   "cell_type": "markdown",
   "id": "313f9ecc-fbac-477f-a3d0-fdc27d14e487",
   "metadata": {},
   "source": [
    "### 1.2. Visualisation des données DVF\n",
    "\n",
    "Il s'agit dans cette section de se faire **des premières intuitions sur les données**. \n",
    "\n",
    "En particulier, on se rend compte d'un **problème de preprocessing** : une transaction peut correspondre à plusieurs lignes avec la même valeur foncière sur chaque ligne. Autrement dit, **DVF affiche le même prix de vente global à chaque lot d'une même transaction**.\n",
    "\n",
    "Pour observer cela, nous allons créer **un identifiant de transaction unique**."
   ]
  },
  {
   "cell_type": "code",
   "execution_count": 3,
   "id": "06eed53c-65bf-4b6a-b351-b24daf16a84e",
   "metadata": {},
   "outputs": [],
   "source": [
    "# Création d'une adresse générique\n",
    "\n",
    "table['adresse_numero'] = table['adresse_numero'].fillna('0').astype(int)\n",
    "table['adresse_suffixe'] = table['adresse_suffixe'].fillna(' ')\n",
    "table['adresse_code_voie'] = table['adresse_code_voie'].fillna(' ')\n",
    "table['adresse_nom_voie'] = table['adresse_nom_voie'].fillna(' ')\n",
    "table['code_postal'] = table['code_postal'].fillna('0').astype(int)\n",
    "table['nom_commune'] = table['nom_commune'].fillna(' ')\n",
    "\n",
    "#Ajout de \"\\\" pour que l'opération soit visible à l'écran en entier\n",
    "table[\"adresse\"] = table['adresse_numero'].astype(str) + ' ' + table['adresse_suffixe'] + ' ' + \\\n",
    "                table['adresse_code_voie'] + ' ' + table['adresse_nom_voie'] + ' ' + table['nom_commune'] + ' ' + \\\n",
    "                table['code_postal'].astype(str) + ' ' + 'France'\n",
    "\n",
    "# Création d'un identifiant de transaction\n",
    "\n",
    "# Pour identifier les doublons, l'adresse ne suffit pas : un bien peut avoir été vendu deux fois dans la même année\n",
    "table[\"identifiant_transaction\"] = table[\"adresse\"].astype(str) + ' le ' + table[\"date_mutation\"].astype(str)"
   ]
  },
  {
   "cell_type": "code",
   "execution_count": 4,
   "id": "c702dec8-b3f1-4549-ad94-74c6d32bd463",
   "metadata": {},
   "outputs": [
    {
     "data": {
      "text/plain": [
       "'5080   0471 CHE DE VOGELAS Val-Revermont 1370 France le 2021-01-05'"
      ]
     },
     "metadata": {},
     "output_type": "display_data"
    },
    {
     "data": {
      "text/plain": [
       "'5080   0471 CHE DE VOGELAS Val-Revermont 1370 France le 2021-01-05'"
      ]
     },
     "metadata": {},
     "output_type": "display_data"
    },
    {
     "data": {
      "text/plain": [
       "\"Si l'identifiant de transaction est valide, alors True doit s'afficher :\""
      ]
     },
     "metadata": {},
     "output_type": "display_data"
    },
    {
     "data": {
      "text/plain": [
       "True"
      ]
     },
     "execution_count": 4,
     "metadata": {},
     "output_type": "execute_result"
    }
   ],
   "source": [
    "# Problème dans les données et vérification de la validité de l'identifiant de transaction :\n",
    "\n",
    "display(table[\"identifiant_transaction\"].loc[0])\n",
    "display(table[\"identifiant_transaction\"].loc[1])\n",
    "display(\"Si l'identifiant de transaction est valide, alors True doit s'afficher :\")\n",
    "table[\"identifiant_transaction\"].loc[0] == table[\"identifiant_transaction\"].loc[1]"
   ]
  },
  {
   "cell_type": "code",
   "execution_count": 5,
   "id": "abb1bce8-c53a-4f1c-8e08-4917df218b80",
   "metadata": {},
   "outputs": [
    {
     "data": {
      "text/plain": [
       "\"Nombre d'adresses uniques dans le DataFrame :\""
      ]
     },
     "metadata": {},
     "output_type": "display_data"
    },
    {
     "data": {
      "text/plain": [
       "547234"
      ]
     },
     "metadata": {},
     "output_type": "display_data"
    },
    {
     "data": {
      "text/plain": [
       "\"Nombre d'identifiant_transaction uniques dans le DataFrame :\""
      ]
     },
     "metadata": {},
     "output_type": "display_data"
    },
    {
     "data": {
      "text/plain": [
       "654843"
      ]
     },
     "metadata": {},
     "output_type": "display_data"
    },
    {
     "data": {
      "text/plain": [
       "'Nombre de lignes dans le DataFrame :'"
      ]
     },
     "metadata": {},
     "output_type": "display_data"
    },
    {
     "data": {
      "text/plain": [
       "1210569"
      ]
     },
     "metadata": {},
     "output_type": "display_data"
    },
    {
     "data": {
      "text/plain": [
       "'Nombre moyen de lignes par vente :'"
      ]
     },
     "metadata": {},
     "output_type": "display_data"
    },
    {
     "data": {
      "text/plain": [
       "1.85"
      ]
     },
     "execution_count": 5,
     "metadata": {},
     "output_type": "execute_result"
    }
   ],
   "source": [
    "# On constate, encore une fois, le problème relevé ci-dessus :\n",
    "\n",
    "display(\"Nombre d'adresses uniques dans le DataFrame :\")\n",
    "display(len(table[\"adresse\"].unique()))\n",
    "\n",
    "display(\"Nombre d'identifiant_transaction uniques dans le DataFrame :\")\n",
    "display(len(table[\"identifiant_transaction\"].unique()))\n",
    "\n",
    "display(\"Nombre de lignes dans le DataFrame :\")\n",
    "display(len(table))\n",
    "\n",
    "display(\"Nombre moyen de lignes par vente :\")\n",
    "np.round(len(table) / len(table[\"identifiant_transaction\"].unique()), 2)\n",
    "\n",
    "# Une vente correspond à plusieurs lignes, les informations sont donc diffusées dans ces lignes..."
   ]
  },
  {
   "cell_type": "markdown",
   "id": "b7c7b701-c0b7-4d04-b3cd-b547123681c9",
   "metadata": {},
   "source": [
    "Dès lors, si on entraîne l'algorithme de pricing sur ce dataset, il sera **biaisé** : \n",
    "* d'une part, il associerait à une dépendance de 20 m2 le prix d'un appartement de 200 m2\n",
    "* d'autre part, il ne prendrait pas en compte la plus-value apportée par un jardin à une maison, par une dépendance à un appartement, etc.\n",
    "\n",
    "Il conviendra donc de **retravailler les données pour obtenir une seule ligne par transaction**.\n",
    "\n",
    "**Le notebook \"cleaning-dvf\"** (lien : https://github.com/victor-kerros/tokenisation-immo/blob/main/cleaning-dvf.ipynb) revient en détail sur ce problème de preprocessing et effectue ce travail de nettoyage. Dans la mesure où cette solution de nettoyage est très coûteuse en temps, nous privilégions **une solution plus efficace** dans le cadre de ce projet : nous ne retenons que les transactions ne faisant l'objet que d'une seule ligne."
   ]
  },
  {
   "cell_type": "markdown",
   "id": "7c73870b-6be9-46a3-8851-e3e92655159a",
   "metadata": {},
   "source": [
    "### 1.3. Création du dataset final DVF\n",
    "\n",
    "D'abord, nous ne prenons que les colonnes suivantes :\n",
    "- Date de vente/mutation\n",
    "- Nature mutation (pour séparer les ventes en VEFA et les ventes classiques)\n",
    "- Valeur foncière (prix de vente)\n",
    "- Colonnes liées à l’adresse (pour nous permettre de localiser le bien)\n",
    "- Adresse\n",
    "- Code Postal\n",
    "- Type local (maison/appartement/Local commercial/Dépendance etc)\n",
    "- Surface réelle bâtie (nb de mètre carré du bien bâti)\n",
    "- Surface terrain (nb de mètre carré du terrain associé au bien)"
   ]
  },
  {
   "cell_type": "code",
   "execution_count": 6,
   "id": "0bc0995e",
   "metadata": {},
   "outputs": [],
   "source": [
    "# On crée le dataframe table_vf avec les seules colonnes qui nous intéressent\n",
    "colonnes = [\"date_mutation\", \"nature_mutation\", \"valeur_fonciere\", \"code_postal\", 'type_local',\n",
    "            'surface_reelle_bati', 'nombre_pieces_principales', 'nature_culture', 'surface_terrain', 'longitude', \n",
    "            'latitude', 'adresse', 'code_departement', 'identifiant_transaction']\n",
    "table_vf = table[colonnes].copy()\n",
    "\n",
    "# On agrège les types de cultures différents de NaN, sols, terrain à bâtir et  : on les renomme \"culture\"\n",
    "culture_type = ['taillis simples', 'eaux', 'landes', 'taillis sous futaie', 'prés', 'terres', 'peupleraies', \n",
    "                'vignes', 'bois', 'vergers', 'carrières', 'futaies résineuses', 'pâtures', 'futaies feuillues', \n",
    "                'futaies mixtes', 'chemin de fer', 'oseraies', 'pacages', 'prés plantes', 'terres plantées', \n",
    "                'landes boisées', 'herbages', \"prés d'embouche\"]\n",
    "\n",
    "for x in culture_type:\n",
    "    table_vf.loc[table_vf[\"nature_culture\"] == x, \"nature_culture\"] = \"culture\""
   ]
  },
  {
   "cell_type": "markdown",
   "id": "00850d89-73de-492a-ba82-d5f2db37654d",
   "metadata": {},
   "source": [
    "Ensuite, comme annoncé, nous ne retenons que les transactions ne faisant l'objet que d'une seule ligne pour créer \"data\" : le dataset final avec lequel nous allons travailler."
   ]
  },
  {
   "cell_type": "code",
   "execution_count": 7,
   "id": "9de55892-9598-4345-b163-690c49816e9c",
   "metadata": {},
   "outputs": [
    {
     "name": "stdout",
     "output_type": "stream",
     "text": [
      "Taille de table_vf_uni (nombre de transactions non dupliquées) :\n",
      "(387469, 14)\n"
     ]
    },
    {
     "data": {
      "text/plain": [
       "'Les trois premières lignes de data :'"
      ]
     },
     "metadata": {},
     "output_type": "display_data"
    },
    {
     "data": {
      "text/html": [
       "<div>\n",
       "<style scoped>\n",
       "    .dataframe tbody tr th:only-of-type {\n",
       "        vertical-align: middle;\n",
       "    }\n",
       "\n",
       "    .dataframe tbody tr th {\n",
       "        vertical-align: top;\n",
       "    }\n",
       "\n",
       "    .dataframe thead th {\n",
       "        text-align: right;\n",
       "    }\n",
       "</style>\n",
       "<table border=\"1\" class=\"dataframe\">\n",
       "  <thead>\n",
       "    <tr style=\"text-align: right;\">\n",
       "      <th></th>\n",
       "      <th>date_mutation</th>\n",
       "      <th>nature_mutation</th>\n",
       "      <th>valeur_fonciere</th>\n",
       "      <th>code_postal</th>\n",
       "      <th>type_local</th>\n",
       "      <th>surface_reelle_bati</th>\n",
       "      <th>nombre_pieces_principales</th>\n",
       "      <th>nature_culture</th>\n",
       "      <th>surface_terrain</th>\n",
       "      <th>longitude</th>\n",
       "      <th>latitude</th>\n",
       "      <th>adresse</th>\n",
       "      <th>code_departement</th>\n",
       "      <th>identifiant_transaction</th>\n",
       "    </tr>\n",
       "  </thead>\n",
       "  <tbody>\n",
       "    <tr>\n",
       "      <th>0</th>\n",
       "      <td>2021-01-06</td>\n",
       "      <td>Vente</td>\n",
       "      <td>10.0</td>\n",
       "      <td>1290</td>\n",
       "      <td>NaN</td>\n",
       "      <td>NaN</td>\n",
       "      <td>NaN</td>\n",
       "      <td>culture</td>\n",
       "      <td>530.0</td>\n",
       "      <td>4.844368</td>\n",
       "      <td>46.224233</td>\n",
       "      <td>0   B043 ROUGEMONT Bey 1290 France</td>\n",
       "      <td>1</td>\n",
       "      <td>0   B043 ROUGEMONT Bey 1290 France le 2021-01-06</td>\n",
       "    </tr>\n",
       "    <tr>\n",
       "      <th>1</th>\n",
       "      <td>2021-01-04</td>\n",
       "      <td>Vente</td>\n",
       "      <td>204332.0</td>\n",
       "      <td>1310</td>\n",
       "      <td>Maison</td>\n",
       "      <td>88.0</td>\n",
       "      <td>4.0</td>\n",
       "      <td>sols</td>\n",
       "      <td>866.0</td>\n",
       "      <td>5.157688</td>\n",
       "      <td>46.200988</td>\n",
       "      <td>7   0276 ALL DES ECUREUILS Buellas 1310 France</td>\n",
       "      <td>1</td>\n",
       "      <td>7   0276 ALL DES ECUREUILS Buellas 1310 France...</td>\n",
       "    </tr>\n",
       "    <tr>\n",
       "      <th>2</th>\n",
       "      <td>2021-01-04</td>\n",
       "      <td>Vente</td>\n",
       "      <td>36.3</td>\n",
       "      <td>1250</td>\n",
       "      <td>NaN</td>\n",
       "      <td>NaN</td>\n",
       "      <td>NaN</td>\n",
       "      <td>culture</td>\n",
       "      <td>121.0</td>\n",
       "      <td>5.462947</td>\n",
       "      <td>46.256243</td>\n",
       "      <td>0   B077 COMBET MAILLET Corveissiat 1250 France</td>\n",
       "      <td>1</td>\n",
       "      <td>0   B077 COMBET MAILLET Corveissiat 1250 Franc...</td>\n",
       "    </tr>\n",
       "  </tbody>\n",
       "</table>\n",
       "</div>"
      ],
      "text/plain": [
       "  date_mutation nature_mutation  valeur_fonciere  code_postal type_local  \\\n",
       "0    2021-01-06           Vente             10.0         1290        NaN   \n",
       "1    2021-01-04           Vente         204332.0         1310     Maison   \n",
       "2    2021-01-04           Vente             36.3         1250        NaN   \n",
       "\n",
       "   surface_reelle_bati  nombre_pieces_principales nature_culture  \\\n",
       "0                  NaN                        NaN        culture   \n",
       "1                 88.0                        4.0           sols   \n",
       "2                  NaN                        NaN        culture   \n",
       "\n",
       "   surface_terrain  longitude   latitude  \\\n",
       "0            530.0   4.844368  46.224233   \n",
       "1            866.0   5.157688  46.200988   \n",
       "2            121.0   5.462947  46.256243   \n",
       "\n",
       "                                           adresse code_departement  \\\n",
       "0               0   B043 ROUGEMONT Bey 1290 France                1   \n",
       "1   7   0276 ALL DES ECUREUILS Buellas 1310 France                1   \n",
       "2  0   B077 COMBET MAILLET Corveissiat 1250 France                1   \n",
       "\n",
       "                             identifiant_transaction  \n",
       "0   0   B043 ROUGEMONT Bey 1290 France le 2021-01-06  \n",
       "1  7   0276 ALL DES ECUREUILS Buellas 1310 France...  \n",
       "2  0   B077 COMBET MAILLET Corveissiat 1250 Franc...  "
      ]
     },
     "metadata": {},
     "output_type": "display_data"
    }
   ],
   "source": [
    "# On ne retient que les transactions ayant fait l'objet d'une seule et unique ligne\n",
    "table_vf_dup = table_vf.copy()\n",
    "table_vf_uni = table_vf.copy()\n",
    "\n",
    "# On récupère les indices des transactions dupliquées...\n",
    "# i.e. les lignes où on retrouve un id de transaction utilisé ailleurs\n",
    "dup_id = table_vf_dup.groupby('identifiant_transaction').size()\n",
    "dup_id = dup_id[dup_id > 1]\n",
    "dup_id = dup_id.reset_index()\n",
    "\n",
    "table_vf_dup = table_vf_dup[table_vf_dup['identifiant_transaction'].isin(dup_id[\"identifiant_transaction\"])]\n",
    "table_vf_uni = table_vf_uni[~table_vf_uni['identifiant_transaction'].isin(dup_id[\"identifiant_transaction\"])]\n",
    "\n",
    "print(\"Taille de table_vf_uni (nombre de transactions non dupliquées) :\")\n",
    "print(table_vf_uni.shape)\n",
    "\n",
    "# La solution la plus efficace, pour éviter un nettoyage trop coûteux en temps...\n",
    "# est de ne retenir que les transactions non dupliquées.\n",
    "data = table_vf_uni\n",
    "data = data.reset_index().drop(\"index\", axis = 1)\n",
    "\n",
    "# Visualisation de data\n",
    "display(\"Les trois premières lignes de data :\")\n",
    "display(data.head(3))"
   ]
  },
  {
   "cell_type": "markdown",
   "id": "dcb8392b-b333-42d7-8b4c-fce911f06fe1",
   "metadata": {},
   "source": [
    "### 1.4. Valeurs extrêmes dans le dataset DVF"
   ]
  },
  {
   "cell_type": "markdown",
   "id": "7782a8a7-09e7-428b-91f9-6d95638096fb",
   "metadata": {},
   "source": [
    "On s'intéresse aux **valeurs extrêmes dans le dataset**. En effet, afin d'avoir un entraînement fiable, nous devons les enlever (sinon, il y aura trop de bruit)."
   ]
  },
  {
   "cell_type": "code",
   "execution_count": 8,
   "id": "496a3101-6bda-49eb-8f59-51b4f1765436",
   "metadata": {},
   "outputs": [],
   "source": [
    "def boxplot_display(data):\n",
    "\n",
    "    fig, axs = plt.subplots(1,4)\n",
    "    fig.suptitle(\"Boxplot des variables d'intérêt :\")\n",
    "\n",
    "    axs[0].boxplot(data[data['valeur_fonciere'].notna()]['valeur_fonciere'])\n",
    "    axs[0].set(title = \"Valeurs foncières\")\n",
    "\n",
    "    axs[1].boxplot(data[data['surface_reelle_bati'].notna()]['surface_reelle_bati'])\n",
    "    axs[1].set(title = \"Surface bati\")\n",
    "\n",
    "    axs[2].boxplot(data[data['nombre_pieces_principales'].notna()]['nombre_pieces_principales'])\n",
    "    axs[2].set(title = \"Nbre pièces\")\n",
    "\n",
    "    axs[3].boxplot(data[data['surface_terrain'].notna()]['surface_terrain'])\n",
    "    axs[3].set(title = \"Surface terrain\")\n",
    "\n",
    "    fig.tight_layout()\n",
    "\n",
    "    plt.show()"
   ]
  },
  {
   "cell_type": "code",
   "execution_count": 9,
   "id": "78b9ce00-34e1-475c-ab50-3673db85eee5",
   "metadata": {},
   "outputs": [
    {
     "data": {
      "image/png": "[encoded data removed]",
      "text/plain": [
       "<Figure size 432x288 with 4 Axes>"
      ]
     },
     "metadata": {
      "needs_background": "light"
     },
     "output_type": "display_data"
    }
   ],
   "source": [
    "boxplot_display(data)"
   ]
  },
  {
   "cell_type": "code",
   "execution_count": 10,
   "id": "54f373e6-e8e9-414b-aa97-9432c98dd593",
   "metadata": {},
   "outputs": [
    {
     "data": {
      "image/png": "[encoded data removed]",
      "text/plain": [
       "<Figure size 432x288 with 1 Axes>"
      ]
     },
     "metadata": {
      "needs_background": "light"
     },
     "output_type": "display_data"
    }
   ],
   "source": [
    "ax = sns.boxplot(x = \"valeur_fonciere\", y = \"type_local\", data = data)"
   ]
  },
  {
   "cell_type": "markdown",
   "id": "52503a9d-089f-4bcf-bf8e-b21e9d7d551a",
   "metadata": {},
   "source": [
    "On constate sur ces boxplots que le dataset présente des valeurs extrêmes **particulièrement hautes** dans les quatre variables d'intérêt. \n",
    "\n",
    "En particulier, les locaux industriels, commerciaux et assimilés ont des valeurs extrêmes très importantes.\n",
    "\n",
    "On observe également des valeurs extrêmes **particulièrement basses**, comme le montrent les cellules ci-dessous."
   ]
  },
  {
   "cell_type": "code",
   "execution_count": 11,
   "id": "00617e15-8b29-412c-a50d-16b43208a8aa",
   "metadata": {},
   "outputs": [
    {
     "data": {
      "text/plain": [
       "387469"
      ]
     },
     "metadata": {},
     "output_type": "display_data"
    },
    {
     "data": {
      "text/plain": [
       "'Le nombre de valeurs foncières inférieures ou égales à 1.0 est de:'"
      ]
     },
     "metadata": {},
     "output_type": "display_data"
    },
    {
     "data": {
      "text/plain": [
       "2315"
      ]
     },
     "metadata": {},
     "output_type": "display_data"
    },
    {
     "data": {
      "text/plain": [
       "'Le nombre de valeurs foncières inférieures ou égales à 10.0 est de:'"
      ]
     },
     "metadata": {},
     "output_type": "display_data"
    },
    {
     "data": {
      "text/plain": [
       "2500"
      ]
     },
     "metadata": {},
     "output_type": "display_data"
    },
    {
     "data": {
      "text/plain": [
       "'Le nombre de valeurs foncières inférieures ou égales à 1000.0 est de:'"
      ]
     },
     "metadata": {},
     "output_type": "display_data"
    },
    {
     "data": {
      "text/plain": [
       "13637"
      ]
     },
     "metadata": {},
     "output_type": "display_data"
    },
    {
     "data": {
      "text/plain": [
       "'Le nombre de valeurs foncières inférieures ou égales à 5000.0 est de:'"
      ]
     },
     "metadata": {},
     "output_type": "display_data"
    },
    {
     "data": {
      "text/plain": [
       "31482"
      ]
     },
     "metadata": {},
     "output_type": "display_data"
    },
    {
     "data": {
      "text/plain": [
       "'Le nombre de valeurs foncières inférieures ou égales à 10000.0 est de:'"
      ]
     },
     "metadata": {},
     "output_type": "display_data"
    },
    {
     "data": {
      "text/plain": [
       "42564"
      ]
     },
     "metadata": {},
     "output_type": "display_data"
    }
   ],
   "source": [
    "display(len(data[\"valeur_fonciere\"]))\n",
    "valeurs = [1.0, 10.0, 1000.0, 5000.0, 10000.0]\n",
    "for i in valeurs:\n",
    "    display(\"Le nombre de valeurs foncières inférieures ou égales à \"+str(i)+\" est de:\")\n",
    "    display(sum(data[\"valeur_fonciere\"] <= i))"
   ]
  },
  {
   "cell_type": "code",
   "execution_count": 12,
   "id": "086a201e-ebf0-4dff-9fef-2ec7390ba0e7",
   "metadata": {},
   "outputs": [
    {
     "data": {
      "text/plain": [
       "387469"
      ]
     },
     "metadata": {},
     "output_type": "display_data"
    },
    {
     "data": {
      "text/plain": [
       "'Le nombre de surfaces bati intérieures ou égales à 1.0 est de:'"
      ]
     },
     "metadata": {},
     "output_type": "display_data"
    },
    {
     "data": {
      "text/plain": [
       "21"
      ]
     },
     "metadata": {},
     "output_type": "display_data"
    },
    {
     "data": {
      "text/plain": [
       "'Le nombre de surfaces bati intérieures ou égales à 5.0 est de:'"
      ]
     },
     "metadata": {},
     "output_type": "display_data"
    },
    {
     "data": {
      "text/plain": [
       "62"
      ]
     },
     "metadata": {},
     "output_type": "display_data"
    },
    {
     "data": {
      "text/plain": [
       "'Le nombre de surfaces bati intérieures ou égales à 10.0 est de:'"
      ]
     },
     "metadata": {},
     "output_type": "display_data"
    },
    {
     "data": {
      "text/plain": [
       "496"
      ]
     },
     "metadata": {},
     "output_type": "display_data"
    },
    {
     "data": {
      "text/plain": [
       "'Le nombre de surfaces bati intérieures ou égales à 30.0 est de:'"
      ]
     },
     "metadata": {},
     "output_type": "display_data"
    },
    {
     "data": {
      "text/plain": [
       "17006"
      ]
     },
     "metadata": {},
     "output_type": "display_data"
    }
   ],
   "source": [
    "display(len(data[\"surface_reelle_bati\"]))\n",
    "valeurs = [1.0, 5.0, 10.0, 30.0]\n",
    "for i in valeurs:\n",
    "    display(\"Le nombre de surfaces bati intérieures ou égales à \"+str(i)+\" est de:\")\n",
    "    display(sum(data[\"surface_reelle_bati\"] <= i))"
   ]
  },
  {
   "cell_type": "markdown",
   "id": "fbef9340-eeac-477a-a9ad-04e5b69e4628",
   "metadata": {},
   "source": [
    "On constate que bien qu'il n'y ait pas de valeurs foncières nulle, il y en a **de nombreuses qui sont inférieures ou égales à 10**.\n",
    "On considère qu'**une transaction est crédible lorsque la valeur foncière est supérieure à 5000** (en-dessous, il s'agit d'une vente qui ne nous intéresse pas).\n",
    "\n",
    "De même, pn considère qu'**une transaction est crédible lorsque la surface du bâtiment est supérieure à 10 m2**."
   ]
  },
  {
   "cell_type": "code",
   "execution_count": 13,
   "id": "11ef4ffc-61e3-4bb4-a371-334557cb78c9",
   "metadata": {},
   "outputs": [],
   "source": [
    "# D'abord, on écarte les valeurs foncières inférieures à 5000 et les surface_reelle_bati inférieures à 10 m2\n",
    "\n",
    "data = data[data[\"valeur_fonciere\"] > 4999]\n",
    "\n",
    "data = data[data[\"surface_reelle_bati\"] > 9]"
   ]
  },
  {
   "cell_type": "code",
   "execution_count": 14,
   "id": "26648287-8a0f-4876-b7cc-859c24029003",
   "metadata": {},
   "outputs": [
    {
     "data": {
      "text/plain": [
       "array(['Maison', 'Local industriel. commercial ou assimilé',\n",
       "       'Appartement'], dtype=object)"
      ]
     },
     "execution_count": 14,
     "metadata": {},
     "output_type": "execute_result"
    }
   ],
   "source": [
    "# Il n'y a plus de Dépendances dans le dataset...\n",
    "\n",
    "data[\"type_local\"].unique()"
   ]
  },
  {
   "cell_type": "code",
   "execution_count": 15,
   "id": "08e2d042-830c-4a43-946e-4e5e4b6dcc75",
   "metadata": {},
   "outputs": [
    {
     "data": {
      "text/html": [
       "<div>\n",
       "<style scoped>\n",
       "    .dataframe tbody tr th:only-of-type {\n",
       "        vertical-align: middle;\n",
       "    }\n",
       "\n",
       "    .dataframe tbody tr th {\n",
       "        vertical-align: top;\n",
       "    }\n",
       "\n",
       "    .dataframe thead th {\n",
       "        text-align: right;\n",
       "    }\n",
       "</style>\n",
       "<table border=\"1\" class=\"dataframe\">\n",
       "  <thead>\n",
       "    <tr style=\"text-align: right;\">\n",
       "      <th></th>\n",
       "      <th>valeur_fonciere</th>\n",
       "      <th>surface_reelle_bati</th>\n",
       "      <th>nombre_pieces_principales</th>\n",
       "      <th>surface_terrain</th>\n",
       "    </tr>\n",
       "  </thead>\n",
       "  <tbody>\n",
       "    <tr>\n",
       "      <th>count</th>\n",
       "      <td>2.089620e+05</td>\n",
       "      <td>208962.000000</td>\n",
       "      <td>208962.000000</td>\n",
       "      <td>131713.000000</td>\n",
       "    </tr>\n",
       "    <tr>\n",
       "      <th>mean</th>\n",
       "      <td>2.453215e+05</td>\n",
       "      <td>108.507446</td>\n",
       "      <td>3.401489</td>\n",
       "      <td>579.178654</td>\n",
       "    </tr>\n",
       "    <tr>\n",
       "      <th>std</th>\n",
       "      <td>7.371912e+05</td>\n",
       "      <td>443.792462</td>\n",
       "      <td>1.731744</td>\n",
       "      <td>1495.270241</td>\n",
       "    </tr>\n",
       "    <tr>\n",
       "      <th>min</th>\n",
       "      <td>5.000000e+03</td>\n",
       "      <td>10.000000</td>\n",
       "      <td>0.000000</td>\n",
       "      <td>1.000000</td>\n",
       "    </tr>\n",
       "    <tr>\n",
       "      <th>25%</th>\n",
       "      <td>1.050000e+05</td>\n",
       "      <td>56.000000</td>\n",
       "      <td>2.000000</td>\n",
       "      <td>209.000000</td>\n",
       "    </tr>\n",
       "    <tr>\n",
       "      <th>50%</th>\n",
       "      <td>1.730000e+05</td>\n",
       "      <td>80.000000</td>\n",
       "      <td>4.000000</td>\n",
       "      <td>412.000000</td>\n",
       "    </tr>\n",
       "    <tr>\n",
       "      <th>75%</th>\n",
       "      <td>2.800000e+05</td>\n",
       "      <td>105.000000</td>\n",
       "      <td>4.000000</td>\n",
       "      <td>676.000000</td>\n",
       "    </tr>\n",
       "    <tr>\n",
       "      <th>max</th>\n",
       "      <td>1.369470e+08</td>\n",
       "      <td>60000.000000</td>\n",
       "      <td>70.000000</td>\n",
       "      <td>278931.000000</td>\n",
       "    </tr>\n",
       "  </tbody>\n",
       "</table>\n",
       "</div>"
      ],
      "text/plain": [
       "       valeur_fonciere  surface_reelle_bati  nombre_pieces_principales  \\\n",
       "count     2.089620e+05        208962.000000              208962.000000   \n",
       "mean      2.453215e+05           108.507446                   3.401489   \n",
       "std       7.371912e+05           443.792462                   1.731744   \n",
       "min       5.000000e+03            10.000000                   0.000000   \n",
       "25%       1.050000e+05            56.000000                   2.000000   \n",
       "50%       1.730000e+05            80.000000                   4.000000   \n",
       "75%       2.800000e+05           105.000000                   4.000000   \n",
       "max       1.369470e+08         60000.000000                  70.000000   \n",
       "\n",
       "       surface_terrain  \n",
       "count    131713.000000  \n",
       "mean        579.178654  \n",
       "std        1495.270241  \n",
       "min           1.000000  \n",
       "25%         209.000000  \n",
       "50%         412.000000  \n",
       "75%         676.000000  \n",
       "max      278931.000000  "
      ]
     },
     "execution_count": 15,
     "metadata": {},
     "output_type": "execute_result"
    }
   ],
   "source": [
    "data.drop([\"code_postal\", \"longitude\", \"latitude\"], axis = 1).describe()"
   ]
  },
  {
   "cell_type": "markdown",
   "id": "0c12def0",
   "metadata": {},
   "source": [
    "Par ailleurs, on observe avec le describe ci-dessus que **les écart-types sont très importants par rapport aux moyennes**, surtout pour les variables \"valeur_fonciere\", \"surface_reelle_bati\" et \"surface_terrain\".\n",
    "Donc, **on enlève les valeurs trop hautes** : ici, cela consiste à *enlever les valeurs dont l'écart à la moyenne en valeur absolue est supérieure à 4 fois l'écart-type*."
   ]
  },
  {
   "cell_type": "code",
   "execution_count": 16,
   "id": "d90fd9ae-9b98-4f21-a8e3-6ff291915cb6",
   "metadata": {},
   "outputs": [],
   "source": [
    "# Pour valeur_fonciere :\n",
    "data = data[~(np.abs(data['valeur_fonciere'] - data['valeur_fonciere'].mean()) > (4 * data['valeur_fonciere'].std()))]\n",
    "\n",
    "# Pour surface_reelle_bati :\n",
    "data = data[~(np.abs(data['surface_reelle_bati'] - data['surface_reelle_bati'].mean()) > (4 * data['surface_reelle_bati'].std()))]\n",
    "\n",
    "# Pour surface_terrain :\n",
    "data = data[~(np.abs(data['surface_terrain'] - data['surface_terrain'].mean()) > (4 * data['surface_terrain'].std()))]"
   ]
  },
  {
   "cell_type": "code",
   "execution_count": 17,
   "id": "9bd67371-0051-4e27-9f5d-d71d23f91cdc",
   "metadata": {},
   "outputs": [
    {
     "data": {
      "text/html": [
       "<div>\n",
       "<style scoped>\n",
       "    .dataframe tbody tr th:only-of-type {\n",
       "        vertical-align: middle;\n",
       "    }\n",
       "\n",
       "    .dataframe tbody tr th {\n",
       "        vertical-align: top;\n",
       "    }\n",
       "\n",
       "    .dataframe thead th {\n",
       "        text-align: right;\n",
       "    }\n",
       "</style>\n",
       "<table border=\"1\" class=\"dataframe\">\n",
       "  <thead>\n",
       "    <tr style=\"text-align: right;\">\n",
       "      <th></th>\n",
       "      <th>valeur_fonciere</th>\n",
       "      <th>surface_reelle_bati</th>\n",
       "      <th>nombre_pieces_principales</th>\n",
       "      <th>surface_terrain</th>\n",
       "    </tr>\n",
       "  </thead>\n",
       "  <tbody>\n",
       "    <tr>\n",
       "      <th>count</th>\n",
       "      <td>2.074130e+05</td>\n",
       "      <td>207413.000000</td>\n",
       "      <td>207413.000000</td>\n",
       "      <td>130343.000000</td>\n",
       "    </tr>\n",
       "    <tr>\n",
       "      <th>mean</th>\n",
       "      <td>2.275776e+05</td>\n",
       "      <td>90.073877</td>\n",
       "      <td>3.416883</td>\n",
       "      <td>508.939659</td>\n",
       "    </tr>\n",
       "    <tr>\n",
       "      <th>std</th>\n",
       "      <td>2.186373e+05</td>\n",
       "      <td>80.755483</td>\n",
       "      <td>1.715642</td>\n",
       "      <td>456.711799</td>\n",
       "    </tr>\n",
       "    <tr>\n",
       "      <th>min</th>\n",
       "      <td>5.000000e+03</td>\n",
       "      <td>10.000000</td>\n",
       "      <td>0.000000</td>\n",
       "      <td>1.000000</td>\n",
       "    </tr>\n",
       "    <tr>\n",
       "      <th>25%</th>\n",
       "      <td>1.050000e+05</td>\n",
       "      <td>55.000000</td>\n",
       "      <td>2.000000</td>\n",
       "      <td>207.000000</td>\n",
       "    </tr>\n",
       "    <tr>\n",
       "      <th>50%</th>\n",
       "      <td>1.720000e+05</td>\n",
       "      <td>80.000000</td>\n",
       "      <td>4.000000</td>\n",
       "      <td>408.000000</td>\n",
       "    </tr>\n",
       "    <tr>\n",
       "      <th>75%</th>\n",
       "      <td>2.780000e+05</td>\n",
       "      <td>105.000000</td>\n",
       "      <td>4.000000</td>\n",
       "      <td>666.000000</td>\n",
       "    </tr>\n",
       "    <tr>\n",
       "      <th>max</th>\n",
       "      <td>3.190000e+06</td>\n",
       "      <td>1609.000000</td>\n",
       "      <td>70.000000</td>\n",
       "      <td>4247.000000</td>\n",
       "    </tr>\n",
       "  </tbody>\n",
       "</table>\n",
       "</div>"
      ],
      "text/plain": [
       "       valeur_fonciere  surface_reelle_bati  nombre_pieces_principales  \\\n",
       "count     2.074130e+05        207413.000000              207413.000000   \n",
       "mean      2.275776e+05            90.073877                   3.416883   \n",
       "std       2.186373e+05            80.755483                   1.715642   \n",
       "min       5.000000e+03            10.000000                   0.000000   \n",
       "25%       1.050000e+05            55.000000                   2.000000   \n",
       "50%       1.720000e+05            80.000000                   4.000000   \n",
       "75%       2.780000e+05           105.000000                   4.000000   \n",
       "max       3.190000e+06          1609.000000                  70.000000   \n",
       "\n",
       "       surface_terrain  \n",
       "count    130343.000000  \n",
       "mean        508.939659  \n",
       "std         456.711799  \n",
       "min           1.000000  \n",
       "25%         207.000000  \n",
       "50%         408.000000  \n",
       "75%         666.000000  \n",
       "max        4247.000000  "
      ]
     },
     "execution_count": 17,
     "metadata": {},
     "output_type": "execute_result"
    }
   ],
   "source": [
    "data.drop([\"code_postal\", \"longitude\", \"latitude\"], axis = 1).describe()"
   ]
  },
  {
   "cell_type": "code",
   "execution_count": 18,
   "id": "d2c4d2c7-8d21-409f-9f3f-e251244cd950",
   "metadata": {},
   "outputs": [
    {
     "data": {
      "image/png": "[encoded data removed]",
      "text/plain": [
       "<Figure size 432x288 with 4 Axes>"
      ]
     },
     "metadata": {
      "needs_background": "light"
     },
     "output_type": "display_data"
    }
   ],
   "source": [
    "boxplot_display(data)"
   ]
  },
  {
   "cell_type": "code",
   "execution_count": 19,
   "id": "92e90ee2-831f-45ea-886d-5dc9d01825ce",
   "metadata": {},
   "outputs": [
    {
     "data": {
      "image/png": "[encoded data removed]",
      "text/plain": [
       "<Figure size 432x288 with 1 Axes>"
      ]
     },
     "metadata": {
      "needs_background": "light"
     },
     "output_type": "display_data"
    }
   ],
   "source": [
    "ax = sns.boxplot(x = \"valeur_fonciere\", y = \"type_local\", data = data)"
   ]
  },
  {
   "cell_type": "markdown",
   "id": "83266d3a-9c92-4e26-8f27-1f71af2eede5",
   "metadata": {},
   "source": [
    "**Ces boxplots correspondent davantage avec la réalité** (médiane des ventes autour de 150 000 euros)."
   ]
  },
  {
   "cell_type": "markdown",
   "id": "22368a66-1ae1-49c9-a4c5-4a4d592e9b83",
   "metadata": {},
   "source": [
    "# Etape 2 : feature engineering"
   ]
  },
  {
   "cell_type": "markdown",
   "id": "fa25bbd4-2a55-4776-8ad3-cd1d217d5f0d",
   "metadata": {},
   "source": [
    "### 2.1. Choix des nouveaux features :"
   ]
  },
  {
   "cell_type": "markdown",
   "id": "9b0c58b8-a9f7-4f1e-a6f4-4d6c51675f1a",
   "metadata": {},
   "source": [
    "Afin d'**avoir un modèle performant**, nous allons **ajouter d'autres features**. En effet, la localisation, le prix, le nombre de pièces et la surface ne donnent pas assez d'informations pour bien valoriser un bien immobilier.\n",
    "\n",
    "Selon BSI Economics, **trois facteurs** qui influencent les prix de l'immobilier :\n",
    "\n",
    "- **l'environnement économique et financier** (offre et demande de logement, contexte économie, structure des marchés immobiliers, logements neufs et anciens, démographie, taux de logements vacants) ;\n",
    "\n",
    "- **les conditions d'emprunts** (taux variables/fixes, maturités des prêts, ratio emprunt sur valeur, répartition des crédits, solvabilité, système de garantie) ;\n",
    "\n",
    "- **l'environnement fiscal** (mesures fiscales incitatives à la location, distorsion fiscale des locataires vers les propriétaires).\n",
    "\n",
    "En particulier, **un agent immobilier** observe, par exemple, les features suivant :\n",
    "* prix au m2 du quartier (le projet qui nous a inspiré utilise l'algorithme BallTree pour l'obtenir), \n",
    "* PIB du département (mesure de l'activité économique des alentours), \n",
    "* densité du département (mesure de l'urbanisation, de l'activité), \n",
    "* variation de population non naturelle (mesure de l'attractivité),\n",
    "* mois de la transaction (saisonnalité des prix dans certaines régions touristiques), \n",
    "* taux de logements vacants dans la région (mesure de l'attractivité)."
   ]
  },
  {
   "cell_type": "markdown",
   "id": "982917b4-89eb-4edb-9402-11d30a223b93",
   "metadata": {},
   "source": [
    "### 2.2. Importation des nouveaux features :"
   ]
  },
  {
   "cell_type": "code",
   "execution_count": 20,
   "id": "a00858cc-57c6-470e-beb4-9c414e7c1e65",
   "metadata": {},
   "outputs": [],
   "source": [
    "# Creation de la variable prix_m2 :\n",
    "\n",
    "data['prix_m2'] = data['surface_terrain'] / data['valeur_fonciere']"
   ]
  },
  {
   "cell_type": "markdown",
   "id": "4a35f454-fb92-485c-8383-c806b72343e8",
   "metadata": {},
   "source": [
    "Ces features ont été **stockés dans le .csv \"external-data\"**. Nous invitons le lecteur à se référer au notebook \"external-data\" afin d'apprécier la manière dont ils ont été importés puis préprocessés."
   ]
  },
  {
   "cell_type": "code",
   "execution_count": 21,
   "id": "3358982c-0878-497e-a14c-f6e41c3c5066",
   "metadata": {},
   "outputs": [
    {
     "data": {
      "text/html": [
       "<div>\n",
       "<style scoped>\n",
       "    .dataframe tbody tr th:only-of-type {\n",
       "        vertical-align: middle;\n",
       "    }\n",
       "\n",
       "    .dataframe tbody tr th {\n",
       "        vertical-align: top;\n",
       "    }\n",
       "\n",
       "    .dataframe thead th {\n",
       "        text-align: right;\n",
       "    }\n",
       "</style>\n",
       "<table border=\"1\" class=\"dataframe\">\n",
       "  <thead>\n",
       "    <tr style=\"text-align: right;\">\n",
       "      <th></th>\n",
       "      <th>Unnamed: 0</th>\n",
       "      <th>code_dep</th>\n",
       "      <th>nom_dep</th>\n",
       "      <th>tx_natalite_2020_percent</th>\n",
       "      <th>nb_musees</th>\n",
       "      <th>chomage_2016</th>\n",
       "      <th>chomage_2017</th>\n",
       "      <th>chomage_2018</th>\n",
       "      <th>chomage_2019</th>\n",
       "      <th>chomage_2020</th>\n",
       "      <th>chomage_2019.1</th>\n",
       "      <th>taux_vacances_2019</th>\n",
       "    </tr>\n",
       "  </thead>\n",
       "  <tbody>\n",
       "    <tr>\n",
       "      <th>0</th>\n",
       "      <td>0</td>\n",
       "      <td>01</td>\n",
       "      <td>Ain</td>\n",
       "      <td>10.3</td>\n",
       "      <td>14</td>\n",
       "      <td>7.350</td>\n",
       "      <td>6.775</td>\n",
       "      <td>6.325</td>\n",
       "      <td>6.050</td>\n",
       "      <td>6.075</td>\n",
       "      <td>6.05</td>\n",
       "      <td>10.066116</td>\n",
       "    </tr>\n",
       "    <tr>\n",
       "      <th>1</th>\n",
       "      <td>1</td>\n",
       "      <td>02</td>\n",
       "      <td>Aisne</td>\n",
       "      <td>10.1</td>\n",
       "      <td>15</td>\n",
       "      <td>13.800</td>\n",
       "      <td>13.175</td>\n",
       "      <td>12.575</td>\n",
       "      <td>11.775</td>\n",
       "      <td>11.125</td>\n",
       "      <td>11.15</td>\n",
       "      <td>10.998363</td>\n",
       "    </tr>\n",
       "    <tr>\n",
       "      <th>2</th>\n",
       "      <td>2</td>\n",
       "      <td>03</td>\n",
       "      <td>Allier</td>\n",
       "      <td>7.8</td>\n",
       "      <td>9</td>\n",
       "      <td>10.525</td>\n",
       "      <td>9.900</td>\n",
       "      <td>9.525</td>\n",
       "      <td>9.050</td>\n",
       "      <td>8.650</td>\n",
       "      <td>8.45</td>\n",
       "      <td>14.294594</td>\n",
       "    </tr>\n",
       "  </tbody>\n",
       "</table>\n",
       "</div>"
      ],
      "text/plain": [
       "   Unnamed: 0 code_dep nom_dep  tx_natalite_2020_percent  nb_musees  \\\n",
       "0           0       01     Ain                      10.3         14   \n",
       "1           1       02   Aisne                      10.1         15   \n",
       "2           2       03  Allier                       7.8          9   \n",
       "\n",
       "   chomage_2016  chomage_2017  chomage_2018  chomage_2019  chomage_2020  \\\n",
       "0         7.350         6.775         6.325         6.050         6.075   \n",
       "1        13.800        13.175        12.575        11.775        11.125   \n",
       "2        10.525         9.900         9.525         9.050         8.650   \n",
       "\n",
       "   chomage_2019.1  taux_vacances_2019  \n",
       "0            6.05           10.066116  \n",
       "1           11.15           10.998363  \n",
       "2            8.45           14.294594  "
      ]
     },
     "execution_count": 21,
     "metadata": {},
     "output_type": "execute_result"
    }
   ],
   "source": [
    "# Importation des données externes INSEE :\n",
    "\n",
    "file_path = \"https://github.com/victor-kerros/tokenisation-immo/raw/main/external-data.csv\"\n",
    "\n",
    "external_data = pd.read_csv(file_path, sep = \",\")\n",
    "\n",
    "external_data.head(3)"
   ]
  },
  {
   "cell_type": "code",
   "execution_count": 32,
   "id": "c0f5a8fa-ffe8-4b0a-887c-708c7ac150d0",
   "metadata": {},
   "outputs": [],
   "source": [
    "list_numbers = [\"1\", \"2\", \"3\", \"4\", \"5\", \"6\", \"7\", \"8\", \"9\"]\n",
    "data[\"code_departement\"] = data[\"code_departement\"].apply(lambda dep: str(dep) if dep not in list_numbers else \"0\"+str(dep))"
   ]
  },
  {
   "cell_type": "code",
   "execution_count": 33,
   "id": "1a515955-275f-4822-af71-c57124699e7f",
   "metadata": {},
   "outputs": [
    {
     "name": "stdout",
     "output_type": "stream",
     "text": [
      "Département présents dans les ventes mais pas dans nos données complémentaires : ['40']\n",
      "Département présents dans les données complémentaires mais pas dans les ventes : ['57', '67', '68']\n",
      "Nombre de départements uniques dans notre table générale : 97.\n"
     ]
    }
   ],
   "source": [
    "dep_vente = data_aux[\"code_departement\"].unique()\n",
    "dep_commun = external_data[\"code_dep\"].unique()\n",
    "\n",
    "print(f\"Département présents dans les ventes mais pas dans nos données complémentaires : {[code_dep for code_dep in dep_vente if code_dep not in dep_commun]}\")\n",
    "print(f\"Département présents dans les données complémentaires mais pas dans les ventes : {[code_dep for code_dep in dep_commun if code_dep not in dep_vente]}\")\n",
    "print(f\"Nombre de départements uniques dans notre table générale : {len(data_aux['code_departement'].unique())}.\")"
   ]
  },
  {
   "cell_type": "markdown",
   "id": "acb0f421-7c95-4508-bdb2-b8bc35067d0f",
   "metadata": {},
   "source": [
    "Les Landes (40) sont présentes dans les ventes mais **pas dans nos données complémentaires** (à cause du df chômage)...\n",
    "Par ailleurs, il n'y a que **97 départements uniques** dans notre table générale..."
   ]
  },
  {
   "cell_type": "markdown",
   "id": "828a8444-dacd-49ed-ae7a-e92c591a81df",
   "metadata": {},
   "source": [
    "### 2.3. Jointure des deux tables de données :"
   ]
  },
  {
   "cell_type": "code",
   "execution_count": 34,
   "id": "da92d6c4-6092-4ea2-83ac-2caeeb1f0b5b",
   "metadata": {},
   "outputs": [
    {
     "data": {
      "text/html": [
       "<div>\n",
       "<style scoped>\n",
       "    .dataframe tbody tr th:only-of-type {\n",
       "        vertical-align: middle;\n",
       "    }\n",
       "\n",
       "    .dataframe tbody tr th {\n",
       "        vertical-align: top;\n",
       "    }\n",
       "\n",
       "    .dataframe thead th {\n",
       "        text-align: right;\n",
       "    }\n",
       "</style>\n",
       "<table border=\"1\" class=\"dataframe\">\n",
       "  <thead>\n",
       "    <tr style=\"text-align: right;\">\n",
       "      <th></th>\n",
       "      <th>code_departement</th>\n",
       "      <th>date_mutation</th>\n",
       "      <th>nature_mutation</th>\n",
       "      <th>valeur_fonciere</th>\n",
       "      <th>code_postal</th>\n",
       "      <th>type_local</th>\n",
       "      <th>surface_reelle_bati</th>\n",
       "      <th>nombre_pieces_principales</th>\n",
       "      <th>nature_culture</th>\n",
       "      <th>surface_terrain</th>\n",
       "      <th>...</th>\n",
       "      <th>nom_dep</th>\n",
       "      <th>tx_natalite_2020_percent</th>\n",
       "      <th>nb_musees</th>\n",
       "      <th>chomage_2016</th>\n",
       "      <th>chomage_2017</th>\n",
       "      <th>chomage_2018</th>\n",
       "      <th>chomage_2019</th>\n",
       "      <th>chomage_2020</th>\n",
       "      <th>chomage_2019.1</th>\n",
       "      <th>taux_vacances_2019</th>\n",
       "    </tr>\n",
       "  </thead>\n",
       "  <tbody>\n",
       "    <tr>\n",
       "      <th>0</th>\n",
       "      <td>01</td>\n",
       "      <td>2021-01-04</td>\n",
       "      <td>Vente</td>\n",
       "      <td>204332.0</td>\n",
       "      <td>1310</td>\n",
       "      <td>Maison</td>\n",
       "      <td>88.0</td>\n",
       "      <td>4.0</td>\n",
       "      <td>sols</td>\n",
       "      <td>866.0</td>\n",
       "      <td>...</td>\n",
       "      <td>Ain</td>\n",
       "      <td>10.3</td>\n",
       "      <td>14</td>\n",
       "      <td>7.35</td>\n",
       "      <td>6.775</td>\n",
       "      <td>6.325</td>\n",
       "      <td>6.05</td>\n",
       "      <td>6.075</td>\n",
       "      <td>6.05</td>\n",
       "      <td>10.066116</td>\n",
       "    </tr>\n",
       "    <tr>\n",
       "      <th>1</th>\n",
       "      <td>01</td>\n",
       "      <td>2021-01-04</td>\n",
       "      <td>Vente</td>\n",
       "      <td>226700.0</td>\n",
       "      <td>1310</td>\n",
       "      <td>Maison</td>\n",
       "      <td>96.0</td>\n",
       "      <td>3.0</td>\n",
       "      <td>NaN</td>\n",
       "      <td>NaN</td>\n",
       "      <td>...</td>\n",
       "      <td>Ain</td>\n",
       "      <td>10.3</td>\n",
       "      <td>14</td>\n",
       "      <td>7.35</td>\n",
       "      <td>6.775</td>\n",
       "      <td>6.325</td>\n",
       "      <td>6.05</td>\n",
       "      <td>6.075</td>\n",
       "      <td>6.05</td>\n",
       "      <td>10.066116</td>\n",
       "    </tr>\n",
       "    <tr>\n",
       "      <th>2</th>\n",
       "      <td>01</td>\n",
       "      <td>2021-01-08</td>\n",
       "      <td>Vente</td>\n",
       "      <td>185000.0</td>\n",
       "      <td>1960</td>\n",
       "      <td>Maison</td>\n",
       "      <td>100.0</td>\n",
       "      <td>4.0</td>\n",
       "      <td>sols</td>\n",
       "      <td>703.0</td>\n",
       "      <td>...</td>\n",
       "      <td>Ain</td>\n",
       "      <td>10.3</td>\n",
       "      <td>14</td>\n",
       "      <td>7.35</td>\n",
       "      <td>6.775</td>\n",
       "      <td>6.325</td>\n",
       "      <td>6.05</td>\n",
       "      <td>6.075</td>\n",
       "      <td>6.05</td>\n",
       "      <td>10.066116</td>\n",
       "    </tr>\n",
       "    <tr>\n",
       "      <th>3</th>\n",
       "      <td>01</td>\n",
       "      <td>2021-01-07</td>\n",
       "      <td>Vente</td>\n",
       "      <td>114500.0</td>\n",
       "      <td>1340</td>\n",
       "      <td>Maison</td>\n",
       "      <td>85.0</td>\n",
       "      <td>2.0</td>\n",
       "      <td>sols</td>\n",
       "      <td>87.0</td>\n",
       "      <td>...</td>\n",
       "      <td>Ain</td>\n",
       "      <td>10.3</td>\n",
       "      <td>14</td>\n",
       "      <td>7.35</td>\n",
       "      <td>6.775</td>\n",
       "      <td>6.325</td>\n",
       "      <td>6.05</td>\n",
       "      <td>6.075</td>\n",
       "      <td>6.05</td>\n",
       "      <td>10.066116</td>\n",
       "    </tr>\n",
       "    <tr>\n",
       "      <th>4</th>\n",
       "      <td>01</td>\n",
       "      <td>2021-01-08</td>\n",
       "      <td>Vente</td>\n",
       "      <td>145000.0</td>\n",
       "      <td>1340</td>\n",
       "      <td>Maison</td>\n",
       "      <td>92.0</td>\n",
       "      <td>1.0</td>\n",
       "      <td>sols</td>\n",
       "      <td>2480.0</td>\n",
       "      <td>...</td>\n",
       "      <td>Ain</td>\n",
       "      <td>10.3</td>\n",
       "      <td>14</td>\n",
       "      <td>7.35</td>\n",
       "      <td>6.775</td>\n",
       "      <td>6.325</td>\n",
       "      <td>6.05</td>\n",
       "      <td>6.075</td>\n",
       "      <td>6.05</td>\n",
       "      <td>10.066116</td>\n",
       "    </tr>\n",
       "    <tr>\n",
       "      <th>...</th>\n",
       "      <td>...</td>\n",
       "      <td>...</td>\n",
       "      <td>...</td>\n",
       "      <td>...</td>\n",
       "      <td>...</td>\n",
       "      <td>...</td>\n",
       "      <td>...</td>\n",
       "      <td>...</td>\n",
       "      <td>...</td>\n",
       "      <td>...</td>\n",
       "      <td>...</td>\n",
       "      <td>...</td>\n",
       "      <td>...</td>\n",
       "      <td>...</td>\n",
       "      <td>...</td>\n",
       "      <td>...</td>\n",
       "      <td>...</td>\n",
       "      <td>...</td>\n",
       "      <td>...</td>\n",
       "      <td>...</td>\n",
       "      <td>...</td>\n",
       "    </tr>\n",
       "    <tr>\n",
       "      <th>205609</th>\n",
       "      <td>974</td>\n",
       "      <td>2021-06-24</td>\n",
       "      <td>Vente</td>\n",
       "      <td>318000.0</td>\n",
       "      <td>97432</td>\n",
       "      <td>Maison</td>\n",
       "      <td>104.0</td>\n",
       "      <td>4.0</td>\n",
       "      <td>sols</td>\n",
       "      <td>531.0</td>\n",
       "      <td>...</td>\n",
       "      <td>La Réunion</td>\n",
       "      <td>15.4</td>\n",
       "      <td>5</td>\n",
       "      <td>22.15</td>\n",
       "      <td>22.850</td>\n",
       "      <td>24.175</td>\n",
       "      <td>21.50</td>\n",
       "      <td>17.375</td>\n",
       "      <td>17.10</td>\n",
       "      <td>9.463297</td>\n",
       "    </tr>\n",
       "    <tr>\n",
       "      <th>205610</th>\n",
       "      <td>974</td>\n",
       "      <td>2021-06-24</td>\n",
       "      <td>Vente</td>\n",
       "      <td>430000.0</td>\n",
       "      <td>97430</td>\n",
       "      <td>Maison</td>\n",
       "      <td>118.0</td>\n",
       "      <td>5.0</td>\n",
       "      <td>sols</td>\n",
       "      <td>568.0</td>\n",
       "      <td>...</td>\n",
       "      <td>La Réunion</td>\n",
       "      <td>15.4</td>\n",
       "      <td>5</td>\n",
       "      <td>22.15</td>\n",
       "      <td>22.850</td>\n",
       "      <td>24.175</td>\n",
       "      <td>21.50</td>\n",
       "      <td>17.375</td>\n",
       "      <td>17.10</td>\n",
       "      <td>9.463297</td>\n",
       "    </tr>\n",
       "    <tr>\n",
       "      <th>205611</th>\n",
       "      <td>974</td>\n",
       "      <td>2021-06-30</td>\n",
       "      <td>Vente</td>\n",
       "      <td>200000.0</td>\n",
       "      <td>97430</td>\n",
       "      <td>Maison</td>\n",
       "      <td>98.0</td>\n",
       "      <td>5.0</td>\n",
       "      <td>sols</td>\n",
       "      <td>411.0</td>\n",
       "      <td>...</td>\n",
       "      <td>La Réunion</td>\n",
       "      <td>15.4</td>\n",
       "      <td>5</td>\n",
       "      <td>22.15</td>\n",
       "      <td>22.850</td>\n",
       "      <td>24.175</td>\n",
       "      <td>21.50</td>\n",
       "      <td>17.375</td>\n",
       "      <td>17.10</td>\n",
       "      <td>9.463297</td>\n",
       "    </tr>\n",
       "    <tr>\n",
       "      <th>205612</th>\n",
       "      <td>974</td>\n",
       "      <td>2021-06-29</td>\n",
       "      <td>Vente</td>\n",
       "      <td>240000.0</td>\n",
       "      <td>97430</td>\n",
       "      <td>Maison</td>\n",
       "      <td>141.0</td>\n",
       "      <td>5.0</td>\n",
       "      <td>sols</td>\n",
       "      <td>719.0</td>\n",
       "      <td>...</td>\n",
       "      <td>La Réunion</td>\n",
       "      <td>15.4</td>\n",
       "      <td>5</td>\n",
       "      <td>22.15</td>\n",
       "      <td>22.850</td>\n",
       "      <td>24.175</td>\n",
       "      <td>21.50</td>\n",
       "      <td>17.375</td>\n",
       "      <td>17.10</td>\n",
       "      <td>9.463297</td>\n",
       "    </tr>\n",
       "    <tr>\n",
       "      <th>205613</th>\n",
       "      <td>974</td>\n",
       "      <td>2021-05-21</td>\n",
       "      <td>Vente</td>\n",
       "      <td>165000.0</td>\n",
       "      <td>97421</td>\n",
       "      <td>Maison</td>\n",
       "      <td>74.0</td>\n",
       "      <td>4.0</td>\n",
       "      <td>sols</td>\n",
       "      <td>224.0</td>\n",
       "      <td>...</td>\n",
       "      <td>La Réunion</td>\n",
       "      <td>15.4</td>\n",
       "      <td>5</td>\n",
       "      <td>22.15</td>\n",
       "      <td>22.850</td>\n",
       "      <td>24.175</td>\n",
       "      <td>21.50</td>\n",
       "      <td>17.375</td>\n",
       "      <td>17.10</td>\n",
       "      <td>9.463297</td>\n",
       "    </tr>\n",
       "  </tbody>\n",
       "</table>\n",
       "<p>205614 rows × 26 columns</p>\n",
       "</div>"
      ],
      "text/plain": [
       "       code_departement date_mutation nature_mutation  valeur_fonciere  \\\n",
       "0                    01    2021-01-04           Vente         204332.0   \n",
       "1                    01    2021-01-04           Vente         226700.0   \n",
       "2                    01    2021-01-08           Vente         185000.0   \n",
       "3                    01    2021-01-07           Vente         114500.0   \n",
       "4                    01    2021-01-08           Vente         145000.0   \n",
       "...                 ...           ...             ...              ...   \n",
       "205609              974    2021-06-24           Vente         318000.0   \n",
       "205610              974    2021-06-24           Vente         430000.0   \n",
       "205611              974    2021-06-30           Vente         200000.0   \n",
       "205612              974    2021-06-29           Vente         240000.0   \n",
       "205613              974    2021-05-21           Vente         165000.0   \n",
       "\n",
       "        code_postal type_local  surface_reelle_bati  \\\n",
       "0              1310     Maison                 88.0   \n",
       "1              1310     Maison                 96.0   \n",
       "2              1960     Maison                100.0   \n",
       "3              1340     Maison                 85.0   \n",
       "4              1340     Maison                 92.0   \n",
       "...             ...        ...                  ...   \n",
       "205609        97432     Maison                104.0   \n",
       "205610        97430     Maison                118.0   \n",
       "205611        97430     Maison                 98.0   \n",
       "205612        97430     Maison                141.0   \n",
       "205613        97421     Maison                 74.0   \n",
       "\n",
       "        nombre_pieces_principales nature_culture  surface_terrain  ...  \\\n",
       "0                             4.0           sols            866.0  ...   \n",
       "1                             3.0            NaN              NaN  ...   \n",
       "2                             4.0           sols            703.0  ...   \n",
       "3                             2.0           sols             87.0  ...   \n",
       "4                             1.0           sols           2480.0  ...   \n",
       "...                           ...            ...              ...  ...   \n",
       "205609                        4.0           sols            531.0  ...   \n",
       "205610                        5.0           sols            568.0  ...   \n",
       "205611                        5.0           sols            411.0  ...   \n",
       "205612                        5.0           sols            719.0  ...   \n",
       "205613                        4.0           sols            224.0  ...   \n",
       "\n",
       "           nom_dep  tx_natalite_2020_percent nb_musees chomage_2016  \\\n",
       "0              Ain                      10.3        14         7.35   \n",
       "1              Ain                      10.3        14         7.35   \n",
       "2              Ain                      10.3        14         7.35   \n",
       "3              Ain                      10.3        14         7.35   \n",
       "4              Ain                      10.3        14         7.35   \n",
       "...            ...                       ...       ...          ...   \n",
       "205609  La Réunion                      15.4         5        22.15   \n",
       "205610  La Réunion                      15.4         5        22.15   \n",
       "205611  La Réunion                      15.4         5        22.15   \n",
       "205612  La Réunion                      15.4         5        22.15   \n",
       "205613  La Réunion                      15.4         5        22.15   \n",
       "\n",
       "        chomage_2017  chomage_2018 chomage_2019  chomage_2020  chomage_2019.1  \\\n",
       "0              6.775         6.325         6.05         6.075            6.05   \n",
       "1              6.775         6.325         6.05         6.075            6.05   \n",
       "2              6.775         6.325         6.05         6.075            6.05   \n",
       "3              6.775         6.325         6.05         6.075            6.05   \n",
       "4              6.775         6.325         6.05         6.075            6.05   \n",
       "...              ...           ...          ...           ...             ...   \n",
       "205609        22.850        24.175        21.50        17.375           17.10   \n",
       "205610        22.850        24.175        21.50        17.375           17.10   \n",
       "205611        22.850        24.175        21.50        17.375           17.10   \n",
       "205612        22.850        24.175        21.50        17.375           17.10   \n",
       "205613        22.850        24.175        21.50        17.375           17.10   \n",
       "\n",
       "        taux_vacances_2019  \n",
       "0                10.066116  \n",
       "1                10.066116  \n",
       "2                10.066116  \n",
       "3                10.066116  \n",
       "4                10.066116  \n",
       "...                    ...  \n",
       "205609            9.463297  \n",
       "205610            9.463297  \n",
       "205611            9.463297  \n",
       "205612            9.463297  \n",
       "205613            9.463297  \n",
       "\n",
       "[205614 rows x 26 columns]"
      ]
     },
     "execution_count": 34,
     "metadata": {},
     "output_type": "execute_result"
    }
   ],
   "source": [
    "data = data.set_index(\"code_departement\").join(external_data.set_index(\"code_dep\"), how = \"inner\", rsuffix = \"jo\")\n",
    "data = data.reset_index().rename(columns = {\"index\": \"code_departement\"})"
   ]
  },
  {
   "cell_type": "markdown",
   "id": "2151b27a-402f-4768-82f2-cb868b8badec",
   "metadata": {},
   "source": [
    "La base de donnée est bien cleanée avec **les nouveaux features ajoutés**."
   ]
  },
  {
   "cell_type": "markdown",
   "id": "9a528f0b-5130-48b6-bfb2-e86df6940e2b",
   "metadata": {},
   "source": [
    "# Etape 3 : analyse descriptive"
   ]
  },
  {
   "cell_type": "markdown",
   "id": "1dfb7c9b-63a1-4b11-8411-9e74d8417292",
   "metadata": {},
   "source": [
    "### 3.1. Premières analyses :"
   ]
  },
  {
   "cell_type": "code",
   "execution_count": null,
   "id": "7270d9db-efc8-466b-ae8e-2c41d385d801",
   "metadata": {},
   "outputs": [],
   "source": [
    "# Visualisation des lignes\n",
    "data.head(2)"
   ]
  },
  {
   "cell_type": "code",
   "execution_count": null,
   "id": "1392150f-b49b-488e-a0cc-18e3c78df0a1",
   "metadata": {},
   "outputs": [],
   "source": [
    "display(data[\"nature_culture\"].unique())\n",
    "display(data[\"type_local\"].unique())"
   ]
  },
  {
   "cell_type": "code",
   "execution_count": null,
   "id": "f25bc4db-183d-4b6a-8df1-fd2d9fba9d15",
   "metadata": {},
   "outputs": [],
   "source": [
    "nb_maisons = list(data[\"type_local\"]).count(\"Maison\")\n",
    "print(f\"Le nombre de maisons dans le dataset est : {nb_maisons}.\")\n",
    "\n",
    "nb_appartement = list(data[\"type_local\"]).count(\"Appartement\")\n",
    "print(f\"Le nombre d'appartments dans le dataset est : {nb_appartement}.\")\n",
    "\n",
    "nb_local = list(data[\"type_local\"]).count(\"Local industriel. commercial ou assimilé\")\n",
    "print(f\"Le nombre de 'Local industriel. commercial ou assimilé' dans le dataset est : {nb_local}.\")"
   ]
  },
  {
   "cell_type": "markdown",
   "id": "0291599d-15c1-4233-b402-9a47f17bcbe5",
   "metadata": {},
   "source": [
    "### 3.2. Analyse de la répartition des ventes :"
   ]
  },
  {
   "cell_type": "code",
   "execution_count": null,
   "id": "a50f953e-2f4b-49ce-8b28-4b1a709cf428",
   "metadata": {},
   "outputs": [],
   "source": [
    "# Répartition des prix de vente\n",
    "\n",
    "plt.hist(data[\"valeur_fonciere\"].values, bins = 100)\n",
    "plt.title('Répartition des valeurs foncières')"
   ]
  },
  {
   "cell_type": "markdown",
   "id": "703f645a-8477-4a1e-86d4-c304996c4d04",
   "metadata": {},
   "source": [
    "Il y a encore des valeurs extrêmes qui **gênent la visualisation**. Nous allons **renlever les valeurs extrêmes** pour pouvoir mieux observer (nous enlevons les valeurs foncières dont l'écart à la moyenne est supérieur à 2,5 fois l'écart type).\n",
    "\n",
    "On constate que la distribution est celle d'une **loi exponentielle**.\n",
    "\n",
    "N.B. : nous utilisons également **le package seaborn** qui offre de bonnes opportunités de visualisation."
   ]
  },
  {
   "cell_type": "code",
   "execution_count": null,
   "id": "8369b8c5-b02b-4f0c-9ffb-ef3f22081336",
   "metadata": {},
   "outputs": [],
   "source": [
    "data_aux = data[~(np.abs(data['valeur_fonciere'] - data['valeur_fonciere'].mean()) > (2.5 * data['valeur_fonciere'].std()))]\n",
    "\n",
    "sns.displot(data_aux, \n",
    "            x = \"valeur_fonciere\", \n",
    "            bins = 50)\n",
    "plt.xticks(rotation = 45)\n",
    "plt.show()"
   ]
  },
  {
   "cell_type": "markdown",
   "id": "dbd0ae99-698d-445e-9d8b-a108430638e0",
   "metadata": {},
   "source": [
    "Distinguons les **types de biens** désormais :"
   ]
  },
  {
   "cell_type": "code",
   "execution_count": null,
   "id": "65975bfa-0bd5-4368-b7b8-a5d6c44162f1",
   "metadata": {},
   "outputs": [],
   "source": [
    "data_aux = data_aux.drop(data_aux.loc[data_aux['type_local'] == 'Local industriel. commercial ou assimilé'].index)\n",
    "\n",
    "sns.displot(data = data_aux,\n",
    "            x = \"valeur_fonciere\",\n",
    "            hue = \"type_local\",\n",
    "            element = \"step\")\n",
    "\n",
    "plt.xticks(rotation = 45)\n",
    "plt.show()"
   ]
  },
  {
   "cell_type": "markdown",
   "id": "aae1509c-e9d0-4d1f-afb8-7c54ebcee4d9",
   "metadata": {},
   "source": [
    "On constate que **les valeurs foncières des dépendances sont centrées autour de très faibles valeurs**, viennent ensuite les appartements puis les maisons (ce qui est logique)."
   ]
  },
  {
   "cell_type": "markdown",
   "id": "8cd78845-cfdc-41df-a05d-f92fb90e5ad6",
   "metadata": {},
   "source": [
    "### 3.3. Corrélation entre valeur foncière et surface :"
   ]
  },
  {
   "cell_type": "code",
   "execution_count": null,
   "id": "62662709-e272-4659-bf49-36b1d01b81e6",
   "metadata": {},
   "outputs": [],
   "source": [
    "# Représentation des transactions d'appartements et maisons : valeur foncière en fonction de la surface\n",
    "\n",
    "data_aux = data_aux.drop(data_aux.loc[data_aux['type_local'] == 'Dépendance'].index)\n",
    "\n",
    "ax = sns.relplot(x = \"surface_reelle_bati\", \n",
    "            y = \"valeur_fonciere\", \n",
    "            hue = \"type_local\", \n",
    "            data = data_aux.sample(2000))\n",
    "ax.set(title = \"Relation entre valeur confière et surface du bâti\",\n",
    "       xlabel = \"Surface réelle bâti\", ylabel = \"Valeur foncière\")\n",
    "plt.show()\n",
    "\n",
    "# Lien tuto seaborn : https://ichi.pro/fr/maitriser-la-visualisation-de-donnees-en-python-avec-seaborn-224185530768080"
   ]
  },
  {
   "cell_type": "markdown",
   "id": "791ab1bd-bc65-40b0-9c2a-314092804b29",
   "metadata": {},
   "source": [
    "On ne constate **pas une corrélation très marquée**... En effet, il faudrait **distinguer la localisation** du bien (Paris vs. petite ville vs. campagne)."
   ]
  },
  {
   "cell_type": "code",
   "execution_count": null,
   "id": "066fef5a",
   "metadata": {},
   "outputs": [],
   "source": [
    "sns.pairplot(data_aux[[\"valeur_fonciere\", \"surface_reelle_bati\", \"nombre_pieces_principales\", \"surface_terrain\"]])\n"
   ]
  },
  {
   "cell_type": "markdown",
   "id": "b74f3fdd",
   "metadata": {},
   "source": [
    "Pas très exploitable"
   ]
  },
  {
   "cell_type": "markdown",
   "id": "f0785b2c-6334-49d9-9a4a-4c97a55353f3",
   "metadata": {},
   "source": [
    "### 3.4. Premières intuitions sur l'analyse à l'échelle départementale :"
   ]
  },
  {
   "cell_type": "code",
   "execution_count": null,
   "id": "f0e5235f-4651-4ef5-a749-0bf89d8d2f34",
   "metadata": {},
   "outputs": [],
   "source": [
    "# Représentation des transactions d'appartements et maisons pour Paris\n",
    "\n",
    "data_aux_paris = data.drop(data.loc[data['code_departement'] != 75].index)\n",
    "data_aux_paris = data_aux_paris.drop(data_aux_paris.loc[data_aux_paris['type_local'] == 'Local industriel. commercial ou assimilé'].index)\n",
    "\n",
    "ax = sns.relplot(x = \"surface_reelle_bati\", \n",
    "            y = \"valeur_fonciere\", \n",
    "            hue = \"type_local\", \n",
    "            data = data_aux_paris.sample(1000))\n",
    "ax.set(title = \"Relation entre valeur foncière et surface du bâti\",\n",
    "       xlabel = \"Surface réelle bâti\", ylabel = \"Valeur foncière\")\n",
    "plt.show()"
   ]
  },
  {
   "cell_type": "markdown",
   "id": "ff740a84-4cd8-4a29-bd25-95628687bfee",
   "metadata": {},
   "source": [
    "Observation de la corrélation :"
   ]
  },
  {
   "cell_type": "code",
   "execution_count": null,
   "id": "b15ff4d5-fe98-4f96-8a1a-a0eb7d7fcf11",
   "metadata": {},
   "outputs": [],
   "source": [
    "ax = sns.lmplot(x = \"surface_reelle_bati\", \n",
    "            y = \"valeur_fonciere\", \n",
    "            hue = \"type_local\", \n",
    "            data = data_aux_paris.sample(10000))\n",
    "ax.set(title = \"Relation entre valeur foncière et surface du bâti\",\n",
    "       xlabel = \"Surface réelle bâti\", ylabel = \"Valeur foncière\")\n",
    "plt.show()"
   ]
  },
  {
   "cell_type": "markdown",
   "id": "df368788-b096-4e17-a118-003beab40b69",
   "metadata": {},
   "source": [
    "Pour la ville de Paris, la corrélation est très marquée !"
   ]
  },
  {
   "cell_type": "code",
   "execution_count": null,
   "id": "5b7c486b-635a-459d-b0d6-273aa147266b",
   "metadata": {},
   "outputs": [],
   "source": [
    "# Représentation des transactions d'appartements et maisons pour le Finistère\n",
    "\n",
    "data_aux_finistere = data.drop(data.loc[data['code_departement'] != 29].index)\n",
    "data_aux_finistere = data_aux_finistere.drop(data_aux_finistere.loc[data_aux_finistere['type_local'] == 'Local industriel. commercial ou assimilé'].index)\n",
    "display(data_aux_finistere.shape)\n",
    "\n",
    "ax = sns.lmplot(x = \"surface_reelle_bati\", \n",
    "            y = \"valeur_fonciere\", \n",
    "            hue = \"type_local\", \n",
    "            data = data_aux_finistere.sample(200))\n",
    "ax.set(title = \"Relation entre valeur foncière et surface du bâti\",\n",
    "       xlabel = \"Surface réelle bâti\", ylabel = \"Valeur foncière\")\n",
    "plt.show()"
   ]
  },
  {
   "cell_type": "markdown",
   "id": "baf2eb12",
   "metadata": {},
   "source": [
    "### 3.5. Analyse par département :"
   ]
  },
  {
   "cell_type": "code",
   "execution_count": null,
   "id": "c930a480-7c3b-45c8-b36c-45c3f42f3591",
   "metadata": {},
   "outputs": [],
   "source": [
    "# Plutôt chercher : les dix départements où il y a eu le plus / moins de ventes ...\n",
    "# Sinon, on ne visualise pas grand chose !\n",
    "data_aux.head()"
   ]
  },
  {
   "cell_type": "code",
   "execution_count": null,
   "id": "2a8ebb24-0b24-4a8e-9b11-99c31f39cfcc",
   "metadata": {},
   "outputs": [],
   "source": [
    "# Les transactions sont inégalement réparties dans les territoires : cela dépend logiquement de la densité de population.\n",
    "# Il conviendrait d'avoir le nombre de transactions moyen par habitant par département...\n",
    "# Cela permettrait de savoir si certains département sont plus dynamiques que d'autres au niveau immobilier.\n",
    "# On ciblerait ainsi, par exemple, des phénomènes de bulle immobilière dans des départements touristiques non résidentiels\n",
    "\n",
    "fig, axs = plt.subplots()\n",
    "axs.set(title = \"Nombre de transaction par départements\")\n",
    "axs.bar(x = [str(dep) for dep in data.code_departement.unique()],\n",
    "            height = data.groupby(\"code_departement\").valeur_fonciere.count() )\n",
    "plt.xticks(rotation = 45)\n",
    "plt.show()"
   ]
  },
  {
   "cell_type": "code",
   "execution_count": null,
   "id": "32299581",
   "metadata": {},
   "outputs": [],
   "source": [
    "fig, axs = plt.subplots()\n",
    "axs.set(title = \"Valeur foncière par département\")\n",
    "axs.bar(x = [str(i) for i in data.code_departement.unique()],\n",
    "            height = data.groupby(\"code_departement\").valeur_fonciere.mean() )\n",
    "plt.xticks(rotation = 45)\n",
    "plt.show()"
   ]
  },
  {
   "cell_type": "code",
   "execution_count": null,
   "id": "7eafe315",
   "metadata": {},
   "outputs": [],
   "source": [
    "fig, axs = plt.subplots()\n",
    "axs.set(title = \"Surface bâtie par département\")\n",
    "axs.bar(x = [str(i) for i in data.code_departement.unique()],\n",
    "            height = data.groupby(\"code_departement\").surface_reelle_bati.mean() )\n",
    "plt.xticks(rotation = 45)\n",
    "plt.show()"
   ]
  },
  {
   "cell_type": "code",
   "execution_count": null,
   "id": "1c7af4bd",
   "metadata": {},
   "outputs": [],
   "source": [
    "fig, axs = plt.subplots()\n",
    "axs.set(title = \"Surface terrain par département\")\n",
    "axs.bar(x = [str(i) for i in data.code_departement.unique()],\n",
    "            height = data.groupby(\"code_departement\").surface_terrain.mean() )\n",
    "plt.xticks(rotation = 45)\n",
    "plt.show()"
   ]
  },
  {
   "cell_type": "markdown",
   "id": "bfcf71af",
   "metadata": {},
   "source": [
    "### 3.6. QQ-plot :"
   ]
  },
  {
   "cell_type": "markdown",
   "id": "637232a9-9f6a-4f94-b166-be3589037cbe",
   "metadata": {},
   "source": [
    "Les QQ-plot pour la variable \"valeurs foncières\" correspondent à ceux d'une **distribution exponentielle**, ce qui confirme notre intuition sur la répartition des valeurs foncières."
   ]
  },
  {
   "cell_type": "code",
   "execution_count": null,
   "id": "f20d2bb6-c4bf-4663-93d3-2ce692490fcf",
   "metadata": {},
   "outputs": [],
   "source": [
    "import numpy as np\n",
    "import matplotlib.pyplot as plt\n",
    "import statsmodels.api as sm\n",
    "\n",
    "sm.qqplot(data[\"valeur_fonciere\"])\n",
    "plt.show()"
   ]
  },
  {
   "cell_type": "code",
   "execution_count": null,
   "id": "9505a7a1",
   "metadata": {},
   "outputs": [],
   "source": [
    "from scipy import stats\n",
    "\n",
    "stats.probplot(data[\"valeur_fonciere\"], plot = plt)"
   ]
  },
  {
   "cell_type": "markdown",
   "id": "6be49a80-59a4-450c-ab54-c21363dfb9e5",
   "metadata": {},
   "source": [
    "### 3.7. Représentation cartographique :"
   ]
  },
  {
   "cell_type": "code",
   "execution_count": null,
   "id": "8b918058-9ed7-478a-9f7c-fb406926d600",
   "metadata": {},
   "outputs": [],
   "source": [
    "# Décommenter si packages pas installés\n",
    "\n",
    "!pip install geopandas\n",
    "import geopandas as gpd\n",
    "!pip install folium\n",
    "import folium"
   ]
  },
  {
   "cell_type": "code",
   "execution_count": null,
   "id": "4a8f3821-335c-4d05-910a-5d128d49e9cc",
   "metadata": {},
   "outputs": [],
   "source": [
    "sub_data = data[data['code_departement'] == 75]\n",
    "sub_data = sub_data[sub_data['longitude'].notna()]\n",
    "sub_data = sub_data[sub_data['latitude'].notna()]\n",
    "sub_data = sub_data.sample(10).reset_index()"
   ]
  },
  {
   "cell_type": "code",
   "execution_count": null,
   "id": "95a0db2f-680e-4cff-823e-781051817f79",
   "metadata": {},
   "outputs": [],
   "source": [
    "paris = folium.Map(location = [48.856578, 2.351828], zoom_start = 12)\n",
    "folium.Marker([2.307332, 48.880394], popup = \"test\").add_to(paris)\n",
    "\n",
    "for index in tqdm(range(sub_data.shape[0]), desc = \"Progression\"):\n",
    "    coord = [float(sub_data[\"longitude\"][index]), float(sub_data[\"latitude\"][index])]\n",
    "    folium.CircleMarker(coord, \n",
    "                        popup = sub_data[\"identifiant_transaction\"][index], \n",
    "                        radius = 100).add_to(paris)\n",
    "\n",
    "paris"
   ]
  },
  {
   "cell_type": "code",
   "execution_count": null,
   "id": "a1dc46b0-b439-4ad5-ac33-45f860c6735c",
   "metadata": {},
   "outputs": [],
   "source": [
    "sub_data = data[data['longitude'].notna()]\n",
    "sub_data = sub_data[sub_data['latitude'].notna()]\n",
    "sub_data = sub_data.sample(100).reset_index()"
   ]
  },
  {
   "cell_type": "code",
   "execution_count": null,
   "id": "d5808e12-a7b8-4722-9c48-cc6abac042d7",
   "metadata": {},
   "outputs": [],
   "source": [
    "france = folium.Map(location = [46.227638, 2.213749], zoom_start = 5)\n",
    "\n",
    "for index in tqdm(range(sub_data.shape[0]), desc = \"Progression\"):\n",
    "    folium.CircleMarker([float(sub_data[\"longitude\"][index]), float(sub_data[\"latitude\"][index])], popup = sub_data[\"identifiant_transaction\"][index], radius = 10).add_to(france)\n",
    "\n",
    "france"
   ]
  },
  {
   "cell_type": "code",
   "execution_count": null,
   "id": "f06c54e8-0e14-49d2-806c-7261c42e5528",
   "metadata": {},
   "outputs": [],
   "source": [
    "# lien tuto folium : https://fxjollois.github.io/cours-2016-2017/analyse-donnees-massives-tp9.html"
   ]
  },
  {
   "cell_type": "markdown",
   "id": "4432561d-749a-45d0-8188-17b479153aa0",
   "metadata": {},
   "source": [
    "# Etape 4 : modélisation"
   ]
  },
  {
   "cell_type": "markdown",
   "id": "82344581",
   "metadata": {},
   "source": [
    "**Imports pour la modélisation**"
   ]
  },
  {
   "cell_type": "code",
   "execution_count": null,
   "id": "430dae17",
   "metadata": {},
   "outputs": [],
   "source": [
    "from sklearn.metrics import make_scorer\n",
    "from sklearn.metrics import explained_variance_score\n",
    "from sklearn.metrics import mean_squared_error\n",
    "from sklearn.metrics import mean_absolute_percentage_error\n",
    "from sklearn.metrics import r2_score\n",
    "\n",
    "from sklearn.linear_model import LinearRegression\n",
    "\n",
    "from sklearn.model_selection import train_test_split\n",
    "\n",
    "from sklearn.ensemble import RandomForestRegressor"
   ]
  },
  {
   "cell_type": "code",
   "execution_count": null,
   "id": "3a39f3d0-a683-4c46-b9cd-f72f8f84c08c",
   "metadata": {},
   "outputs": [],
   "source": [
    "# data_model = data[data[\"valeur_fonciere\"] > 0.0] # A priori plus nécessaire car fait plus haut\n",
    "data_model = data"
   ]
  },
  {
   "cell_type": "markdown",
   "id": "f2760c76",
   "metadata": {},
   "source": [
    "**Concernant le choix des métriques d'évaluation des modèles** \n",
    "Ici on cherche à prédire le plus précisemment possible la valeur du logement à partir de ses caractéristiques.\n",
    "Les métriques utilisées pour l'instant sont :\n",
    "- *Explained_variance_score* qui correspond à la part de variance dans le y_pred que le modèle explique\n",
    "- *mean_squarred_error* \"expected value of the squarred error\"\n",
    "- MAPE codée en-dessous, mean absolute percentage error, mesure de la précision comme un pourcentage  \n",
    "\n",
    "Etant donné que ce qui nous intéresse dans ce projet est de prédire précisemment le prix du logement, la métrique **MAPE** \n",
    "semble la plus pertinente puisqu'elle nous donne une mesure en pourcentage de la précision de notre estimation (ou plutôt de l'écart en % de notre prédiction à la réalité)."
   ]
  },
  {
   "cell_type": "code",
   "execution_count": null,
   "id": "c47b4893-16fe-4bb2-9d95-eb99ee727c7c",
   "metadata": {},
   "outputs": [],
   "source": [
    "# Features selection\n",
    "\n",
    "features = ['valeur_fonciere', 'type_local', 'surface_reelle_bati', 'nombre_pieces_principales', \n",
    "            'nature_culture', 'surface_terrain', 'longitude', 'latitude', 'code_departement', 'prix_m2']\n",
    "\n",
    "data_model = data_model[features]"
   ]
  },
  {
   "cell_type": "markdown",
   "id": "b0556900",
   "metadata": {},
   "source": [
    "Etant donné que le modèle de randomforest de sklearn ne peut pas gérer seul les variables catégorielles, nous devons les \n",
    "transformer en dummies"
   ]
  },
  {
   "cell_type": "code",
   "execution_count": null,
   "id": "2d9b0575-d735-44a5-91d8-9505d3d11d08",
   "metadata": {},
   "outputs": [],
   "source": [
    "# Encoding categorical variables\n",
    "\n",
    "# local_type\n",
    "\n",
    "data_model[\"encoded_local_type_m\"] = [1 if local == \"Maison\" else 0 for local in data_model[\"type_local\"]]\n",
    "data_model[\"encoded_local_type_a\"] = [2 if local == \"Appartement\" else 0 for local in data_model[\"type_local\"]]\n",
    "data_model[\"encoded_local_type_d\"] = [3 if local == \"Dépendance\" else 0 for local in data_model[\"type_local\"]]\n",
    "data_model[\"encoded_local_type_l\"] = [4 if local == \"Local industriel. commercial ou assimilé\" else 0 \\\n",
    "                                      for local in data_model[\"type_local\"]]\n",
    "\n",
    "\n",
    "list_name = [\"type_local\", \"encoded_local_type_m\", \"encoded_local_type_a\", \"encoded_local_type_d\", \n",
    "             \"encoded_local_type_l\"]\n",
    "\n",
    "data_model[\"encoded_local_type\"] = data_model.loc[:,list_name].sum(axis = 1)\n",
    "data_model = data_model.drop(list_name, axis = 1)\n",
    "\n",
    "# nature_culture\n",
    "\n",
    "data_model[\"encoded_nature_culture_c\"] = [1 if local == \"culture\" else 0 for local in data_model[\"nature_culture\"]]\n",
    "data_model[\"encoded_nature_culture_s\"] = [2 if local == \"sols\" else 0 for local in data_model[\"nature_culture\"]]\n",
    "data_model[\"encoded_nature_culture_tb\"] = [3 if local == \"terrains a bâtir\" else 0 for local in data_model[\"nature_culture\"]]\n",
    "data_model[\"encoded_nature_culture_j\"] = [4 if local == \"jardins\" else 0 for local in data_model[\"nature_culture\"]]\n",
    "data_model[\"encoded_nature_culture_ta\"] = [4 if local == \"terrains d'agrément\" else 0 for local in data_model[\"nature_culture\"]]\n",
    "\n",
    "list_name = [\"nature_culture\", \"encoded_nature_culture_c\", \"encoded_nature_culture_s\", \n",
    "             \"encoded_nature_culture_tb\", \"encoded_nature_culture_j\", \"encoded_nature_culture_ta\"]\n",
    "\n",
    "data_model[\"encoded_nature_culture\"] = data_model.loc[:,list_name].sum(axis = 1)\n",
    "\n",
    "data_model = data_model.drop(list_name, axis = 1)\n",
    "\n",
    "# code_departement\n",
    "\n",
    "data_model[\"code_departement\"] = [201 if code == \"2A\" else code for code in data_model[\"code_departement\"]]\n",
    "data_model[\"code_departement\"] = [202 if code == \"2B\" else code for code in data_model[\"code_departement\"]]\n",
    "\n",
    "# enlever NaN (on les remplace par des 0, à justifier)\n",
    "data_model = data_model.fillna(0)\n",
    "\n",
    "data_model.head()"
   ]
  },
  {
   "cell_type": "markdown",
   "id": "4d8996b0",
   "metadata": {},
   "source": [
    "**Régression linéaire simple**"
   ]
  },
  {
   "cell_type": "code",
   "execution_count": null,
   "id": "3de11d84",
   "metadata": {},
   "outputs": [],
   "source": [
    "data_model_small = data_model.copy()\n",
    "data_model_small.head()"
   ]
  },
  {
   "cell_type": "code",
   "execution_count": null,
   "id": "a020a7bd",
   "metadata": {},
   "outputs": [],
   "source": [
    "data_model_small = data_model_small[[\"surface_reelle_bati\", \"valeur_fonciere\"]]\n",
    "data_model_small.head()"
   ]
  },
  {
   "cell_type": "code",
   "execution_count": null,
   "id": "a7d42286",
   "metadata": {},
   "outputs": [],
   "source": [
    "# Entraînement du modèle régression linéaire simple\n",
    "\n",
    "training_data, test_data = train_test_split(data_model_small, test_size = 0.2)\n",
    "y_train = training_data[\"valeur_fonciere\"].values\n",
    "X_train = training_data.drop([\"valeur_fonciere\"], axis = 1).values\n",
    "\n",
    "model = LinearRegression(fit_intercept = True).fit(X_train, y_train)"
   ]
  },
  {
   "cell_type": "code",
   "execution_count": null,
   "id": "346277ce",
   "metadata": {},
   "outputs": [],
   "source": [
    "# Test du modèle régression linéaire simple\n",
    "\n",
    "y_test = test_data[\"valeur_fonciere\"].values\n",
    "X_test = test_data.drop([\"valeur_fonciere\"], axis = 1).values\n",
    "y_pred = model.predict(X_test)"
   ]
  },
  {
   "cell_type": "code",
   "execution_count": null,
   "id": "903877a2",
   "metadata": {},
   "outputs": [],
   "source": [
    "# Coefficients du modèle régression linéaire simple\n",
    "\n",
    "print(\"Intercept: \\n\", model.intercept_)\n",
    "print(\"Coefficients: \\n\", model.coef_)"
   ]
  },
  {
   "cell_type": "code",
   "execution_count": null,
   "id": "6bd8bcad",
   "metadata": {},
   "outputs": [],
   "source": [
    "# Métriques du modèle régression linéaire simple\n",
    "\n",
    "display(\"Variance expliquée par le modèle régression linéaire simple :\")\n",
    "display(explained_variance_score(y_test, y_pred))\n",
    "\n",
    "display(\"MAPE\")\n",
    "display(mean_absolute_percentage_error(y_test, y_pred))\n",
    "\n",
    "display(\"MSE\")\n",
    "display(mean_squared_error(y_test, y_pred))\n",
    "\n",
    "display(\"R2\")\n",
    "display(r2_score(y_test, y_pred))"
   ]
  },
  {
   "cell_type": "markdown",
   "id": "6e284347",
   "metadata": {},
   "source": [
    "Ce modèle extrêmement simple explique seulement **7%** de la variance dans les données de test"
   ]
  },
  {
   "cell_type": "code",
   "execution_count": null,
   "id": "58c8f8c5",
   "metadata": {},
   "outputs": [],
   "source": [
    "fig, axs = plt.subplots()\n",
    "axs.scatter(X_test, y_test, color = \"black\", s = 1)\n",
    "axs.plot(X_test, y_pred, color = \"blue\", linewidth = 3)\n",
    "plt.show()"
   ]
  },
  {
   "cell_type": "markdown",
   "id": "f22ac007",
   "metadata": {},
   "source": [
    "Le graphique ci-dessus indique les vrais points de données (en noir) et la droite de la régression linéaire simple (en bleue)"
   ]
  },
  {
   "cell_type": "markdown",
   "id": "824e5e72",
   "metadata": {},
   "source": [
    "**Régression linéaire multiple**"
   ]
  },
  {
   "cell_type": "code",
   "execution_count": null,
   "id": "c580fb2d",
   "metadata": {},
   "outputs": [],
   "source": [
    "# Entraînement du modèle régression linéaire multiple\n",
    "\n",
    "# code_departement ? Pas ajoutable en l'état parce qu'il induirait un ordre entre le départemetn ce qui n'est pas ce qu'on veut\n",
    "\n",
    "training_data, test_data = train_test_split(data_model[[\"valeur_fonciere\",\"surface_reelle_bati\", \"nombre_pieces_principales\",\n",
    "                                                       \"surface_terrain\", \"encoded_local_type\", \"encoded_nature_culture\"]],\n",
    "                                            test_size = 0.2)\n",
    "\n",
    "y_train = training_data[\"valeur_fonciere\"].values\n",
    "X_train = training_data.drop([\"valeur_fonciere\"], axis = 1).values\n",
    "\n",
    "model = LinearRegression(fit_intercept = True).fit(X_train, y_train)"
   ]
  },
  {
   "cell_type": "code",
   "execution_count": null,
   "id": "65771356",
   "metadata": {},
   "outputs": [],
   "source": [
    "# Test du modèle régression linéaire multiple\n",
    "\n",
    "y_test = test_data[\"valeur_fonciere\"].values\n",
    "X_test = test_data.drop([\"valeur_fonciere\"], axis = 1).values\n",
    "y_pred = model.predict(X_test)"
   ]
  },
  {
   "cell_type": "code",
   "execution_count": null,
   "id": "d87f0249",
   "metadata": {},
   "outputs": [],
   "source": [
    "# Coefficients du régression linéaire multiple\n",
    "print(\"Intercept: \\n\", model.intercept_)\n",
    "print(\"Coefficients: \\n\", model.coef_)"
   ]
  },
  {
   "cell_type": "code",
   "execution_count": null,
   "id": "03edda24",
   "metadata": {},
   "outputs": [],
   "source": [
    "# Métriques du modèle régression linéaire multiple\n",
    "\n",
    "display(\"Variance expliquée par le modèle régression linéaire multiple :\")\n",
    "display(explained_variance_score(y_test, y_pred))\n",
    "\n",
    "display(\"MAPE\")\n",
    "display(mean_absolute_percentage_error(y_test, y_pred))\n",
    "\n",
    "display(\"MSE\")\n",
    "display(mean_squared_error(y_test, y_pred))\n",
    "\n",
    "display(\"R2\")\n",
    "display(r2_score(y_test, y_pred))"
   ]
  },
  {
   "cell_type": "markdown",
   "id": "aee43e23",
   "metadata": {},
   "source": [
    "Dans mon test, on monte à seulement **12 %** de variance expliquée en rajoutant plein de variables"
   ]
  },
  {
   "cell_type": "markdown",
   "id": "e9ab7671",
   "metadata": {},
   "source": [
    "**Random forest**"
   ]
  },
  {
   "cell_type": "code",
   "execution_count": null,
   "id": "dde284a5-4ebd-45fa-a371-09081f62c547",
   "metadata": {},
   "outputs": [],
   "source": [
    "# Entraînement du modèle random forest\n",
    "\n",
    "training_data, test_data = train_test_split(data_model, test_size = 0.2)\n",
    "\n",
    "y_train = training_data[\"valeur_fonciere\"].values\n",
    "X_train = training_data.drop([\"valeur_fonciere\", \"prix_m2\"], axis = 1).values\n",
    "\n",
    "model = RandomForestRegressor(n_estimators = 30, min_samples_split = 5)\n",
    "\n",
    "model.fit(X_train, y_train)"
   ]
  },
  {
   "cell_type": "code",
   "execution_count": null,
   "id": "e8ccb6e3-1963-4c56-92fe-18e6da09dc94",
   "metadata": {},
   "outputs": [],
   "source": [
    "# Test du modèle random forest\n",
    "\n",
    "y_test = test_data[\"valeur_fonciere\"].values\n",
    "X_test = test_data.drop([\"valeur_fonciere\", \"prix_m2\"], axis = 1).values\n",
    "y_pred = model.predict(X_test)\n",
    "\n",
    "display(\"Variance expliquée par le modèle\")\n",
    "display(explained_variance_score(y_test, y_pred))"
   ]
  },
  {
   "cell_type": "code",
   "execution_count": null,
   "id": "9e368914-167d-4455-9e5c-f9629cae09d4",
   "metadata": {},
   "outputs": [],
   "source": [
    "# Métriques du modèle random forest\n",
    "\n",
    "display(\"Variance expliquée par le modèle random forest :\")\n",
    "display(explained_variance_score(y_test, y_pred))\n",
    "\n",
    "display(\"MAPE\")\n",
    "display(mean_absolute_percentage_error(y_test, y_pred))\n",
    "\n",
    "display(\"MSE\")\n",
    "display(mean_squared_error(y_test, y_pred))\n",
    "\n",
    "display(\"R2\")\n",
    "display(r2_score(y_test, y_pred))"
   ]
  },
  {
   "cell_type": "code",
   "execution_count": null,
   "id": "48b77649-4c8f-4177-9582-66615b1165b1",
   "metadata": {},
   "outputs": [],
   "source": [
    "schema = pd.DataFrame((np.abs(y_test - model.predict(X_test)) / y_test)) * 100\n",
    "\n",
    "schema.hist(bins = 200)\n",
    "\n",
    "plt.xlabel('Erreur en %')\n",
    "plt.title('Distribution de l\\'erreur de notre modèle')"
   ]
  }
 ],
 "metadata": {
  "kernelspec": {
   "display_name": "Python 3 (ipykernel)",
   "language": "python",
   "name": "python3"
  },
  "language_info": {
   "codemirror_mode": {
    "name": "ipython",
    "version": 3
   },
   "file_extension": ".py",
   "mimetype": "text/x-python",
   "name": "python",
   "nbconvert_exporter": "python",
   "pygments_lexer": "ipython3",
   "version": "3.9.7"
  }
 },
 "nbformat": 4,
 "nbformat_minor": 5
}
